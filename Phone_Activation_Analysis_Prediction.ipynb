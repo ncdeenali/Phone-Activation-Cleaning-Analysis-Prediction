{
  "cells": [
    {
      "cell_type": "markdown",
      "metadata": {
        "id": "c5cVjvj8gWr3"
      },
      "source": [
        "note: i've yet to finish preprocessing. i have no idea how to go about filling the missing values after finding the corelation between columns. i was able to do so in smaller and less dense data sets but not this. i'd appreciate some help."
      ]
    },
    {
      "cell_type": "code",
      "execution_count": null,
      "metadata": {
        "id": "gvYB5ln70EUs"
      },
      "outputs": [],
      "source": [
        "# defining pandas to work on csv file.\n",
        "import pandas as pd"
      ]
    },
    {
      "cell_type": "code",
      "execution_count": null,
      "metadata": {
        "colab": {
          "base_uri": "https://localhost:8080/",
          "height": 451
        },
        "id": "CYJVfotX0L7N",
        "outputId": "55ef8f0a-547f-48b3-e15e-858e034ca048"
      },
      "outputs": [
        {
          "output_type": "execute_result",
          "data": {
            "text/plain": [
              "      CO_ID       USER_CREATED_BY     MSISDN POS_MSISDN  \\\n",
              "0  31154967              BJNN1810  891476116    ORG3448   \n",
              "1  31719208  TTP.PNBR.BLTHBLHBNBF  891433210        NaN   \n",
              "2  30566993              BJNN1810  882740023        NaN   \n",
              "3  31654015              DPNB1876  529853159        NaN   \n",
              "4  31237322              DPNB1876  883224490        NaN   \n",
              "\n",
              "                                         DISTRIBUTER              Plan_Name  \\\n",
              "0  BL-NVTBTBXFRB BL-LB NVTBNBHFZB (LJNJTLFTT JNTF...      Basic Orange Plan   \n",
              "1                                         FJFLDTBLFT        Governorates 10   \n",
              "2                     FRBNDHJTF - TBFFXBZ 7TH DJRDLF  Family Orange Plan 10   \n",
              "3                             FNTFRPRJTF TBLFT TTPDL              Orange 90   \n",
              "4                             FNTFRPRJTF TBLFT TTPDL              Orange 60   \n",
              "\n",
              "  ACTIVE_DATE DEACTIVE_DATE  Customer Tenure Tenure Category          STATUS  \\\n",
              "0   10/5/2023           NaN               88             NaN  Hard Suspended   \n",
              "1   9/28/2023           NaN               95     Medium-term          Active   \n",
              "2   9/19/2023           NaN              104     Medium-term          Active   \n",
              "3   9/13/2023    10/22/2023               39      Short-term        Deactive   \n",
              "4   8/10/2023     8/28/2023               18      Short-term        Deactive   \n",
              "\n",
              "        Status Reason  SEGMENT1     SEGMENT2  Churn Flag  \\\n",
              "0  Violation of terms   Prepaid  Residential           1   \n",
              "1                 NaN  Postpaid          PRO           1   \n",
              "2                 NaN   Prepaid          PRO           1   \n",
              "3     Service Quality  Postpaid    Corporate           1   \n",
              "4       Lack of Usage  Postpaid    Corporate           1   \n",
              "\n",
              "   Customer Interaction Score  Loyalty Points Data Usage Tier  \\\n",
              "0                           3              48             Low   \n",
              "1                           7              65            High   \n",
              "2                           6              65          Medium   \n",
              "3                           9              73             NaN   \n",
              "4                           5              10             NaN   \n",
              "\n",
              "  Customer Segment Change Flag  \n",
              "0                         TRUE  \n",
              "1                         TRUE  \n",
              "2                         TRUE  \n",
              "3                         TRUE  \n",
              "4                         TRUE  "
            ],
            "text/html": [
              "\n",
              "  <div id=\"df-535c3984-439e-4666-bfee-988e65cd9593\" class=\"colab-df-container\">\n",
              "    <div>\n",
              "<style scoped>\n",
              "    .dataframe tbody tr th:only-of-type {\n",
              "        vertical-align: middle;\n",
              "    }\n",
              "\n",
              "    .dataframe tbody tr th {\n",
              "        vertical-align: top;\n",
              "    }\n",
              "\n",
              "    .dataframe thead th {\n",
              "        text-align: right;\n",
              "    }\n",
              "</style>\n",
              "<table border=\"1\" class=\"dataframe\">\n",
              "  <thead>\n",
              "    <tr style=\"text-align: right;\">\n",
              "      <th></th>\n",
              "      <th>CO_ID</th>\n",
              "      <th>USER_CREATED_BY</th>\n",
              "      <th>MSISDN</th>\n",
              "      <th>POS_MSISDN</th>\n",
              "      <th>DISTRIBUTER</th>\n",
              "      <th>Plan_Name</th>\n",
              "      <th>ACTIVE_DATE</th>\n",
              "      <th>DEACTIVE_DATE</th>\n",
              "      <th>Customer Tenure</th>\n",
              "      <th>Tenure Category</th>\n",
              "      <th>STATUS</th>\n",
              "      <th>Status Reason</th>\n",
              "      <th>SEGMENT1</th>\n",
              "      <th>SEGMENT2</th>\n",
              "      <th>Churn Flag</th>\n",
              "      <th>Customer Interaction Score</th>\n",
              "      <th>Loyalty Points</th>\n",
              "      <th>Data Usage Tier</th>\n",
              "      <th>Customer Segment Change Flag</th>\n",
              "    </tr>\n",
              "  </thead>\n",
              "  <tbody>\n",
              "    <tr>\n",
              "      <th>0</th>\n",
              "      <td>31154967</td>\n",
              "      <td>BJNN1810</td>\n",
              "      <td>891476116</td>\n",
              "      <td>ORG3448</td>\n",
              "      <td>BL-NVTBTBXFRB BL-LB NVTBNBHFZB (LJNJTLFTT JNTF...</td>\n",
              "      <td>Basic Orange Plan</td>\n",
              "      <td>10/5/2023</td>\n",
              "      <td>NaN</td>\n",
              "      <td>88</td>\n",
              "      <td>NaN</td>\n",
              "      <td>Hard Suspended</td>\n",
              "      <td>Violation of terms</td>\n",
              "      <td>Prepaid</td>\n",
              "      <td>Residential</td>\n",
              "      <td>1</td>\n",
              "      <td>3</td>\n",
              "      <td>48</td>\n",
              "      <td>Low</td>\n",
              "      <td>TRUE</td>\n",
              "    </tr>\n",
              "    <tr>\n",
              "      <th>1</th>\n",
              "      <td>31719208</td>\n",
              "      <td>TTP.PNBR.BLTHBLHBNBF</td>\n",
              "      <td>891433210</td>\n",
              "      <td>NaN</td>\n",
              "      <td>FJFLDTBLFT</td>\n",
              "      <td>Governorates 10</td>\n",
              "      <td>9/28/2023</td>\n",
              "      <td>NaN</td>\n",
              "      <td>95</td>\n",
              "      <td>Medium-term</td>\n",
              "      <td>Active</td>\n",
              "      <td>NaN</td>\n",
              "      <td>Postpaid</td>\n",
              "      <td>PRO</td>\n",
              "      <td>1</td>\n",
              "      <td>7</td>\n",
              "      <td>65</td>\n",
              "      <td>High</td>\n",
              "      <td>TRUE</td>\n",
              "    </tr>\n",
              "    <tr>\n",
              "      <th>2</th>\n",
              "      <td>30566993</td>\n",
              "      <td>BJNN1810</td>\n",
              "      <td>882740023</td>\n",
              "      <td>NaN</td>\n",
              "      <td>FRBNDHJTF - TBFFXBZ 7TH DJRDLF</td>\n",
              "      <td>Family Orange Plan 10</td>\n",
              "      <td>9/19/2023</td>\n",
              "      <td>NaN</td>\n",
              "      <td>104</td>\n",
              "      <td>Medium-term</td>\n",
              "      <td>Active</td>\n",
              "      <td>NaN</td>\n",
              "      <td>Prepaid</td>\n",
              "      <td>PRO</td>\n",
              "      <td>1</td>\n",
              "      <td>6</td>\n",
              "      <td>65</td>\n",
              "      <td>Medium</td>\n",
              "      <td>TRUE</td>\n",
              "    </tr>\n",
              "    <tr>\n",
              "      <th>3</th>\n",
              "      <td>31654015</td>\n",
              "      <td>DPNB1876</td>\n",
              "      <td>529853159</td>\n",
              "      <td>NaN</td>\n",
              "      <td>FNTFRPRJTF TBLFT TTPDL</td>\n",
              "      <td>Orange 90</td>\n",
              "      <td>9/13/2023</td>\n",
              "      <td>10/22/2023</td>\n",
              "      <td>39</td>\n",
              "      <td>Short-term</td>\n",
              "      <td>Deactive</td>\n",
              "      <td>Service Quality</td>\n",
              "      <td>Postpaid</td>\n",
              "      <td>Corporate</td>\n",
              "      <td>1</td>\n",
              "      <td>9</td>\n",
              "      <td>73</td>\n",
              "      <td>NaN</td>\n",
              "      <td>TRUE</td>\n",
              "    </tr>\n",
              "    <tr>\n",
              "      <th>4</th>\n",
              "      <td>31237322</td>\n",
              "      <td>DPNB1876</td>\n",
              "      <td>883224490</td>\n",
              "      <td>NaN</td>\n",
              "      <td>FNTFRPRJTF TBLFT TTPDL</td>\n",
              "      <td>Orange 60</td>\n",
              "      <td>8/10/2023</td>\n",
              "      <td>8/28/2023</td>\n",
              "      <td>18</td>\n",
              "      <td>Short-term</td>\n",
              "      <td>Deactive</td>\n",
              "      <td>Lack of Usage</td>\n",
              "      <td>Postpaid</td>\n",
              "      <td>Corporate</td>\n",
              "      <td>1</td>\n",
              "      <td>5</td>\n",
              "      <td>10</td>\n",
              "      <td>NaN</td>\n",
              "      <td>TRUE</td>\n",
              "    </tr>\n",
              "  </tbody>\n",
              "</table>\n",
              "</div>\n",
              "    <div class=\"colab-df-buttons\">\n",
              "\n",
              "  <div class=\"colab-df-container\">\n",
              "    <button class=\"colab-df-convert\" onclick=\"convertToInteractive('df-535c3984-439e-4666-bfee-988e65cd9593')\"\n",
              "            title=\"Convert this dataframe to an interactive table.\"\n",
              "            style=\"display:none;\">\n",
              "\n",
              "  <svg xmlns=\"http://www.w3.org/2000/svg\" height=\"24px\" viewBox=\"0 -960 960 960\">\n",
              "    <path d=\"M120-120v-720h720v720H120Zm60-500h600v-160H180v160Zm220 220h160v-160H400v160Zm0 220h160v-160H400v160ZM180-400h160v-160H180v160Zm440 0h160v-160H620v160ZM180-180h160v-160H180v160Zm440 0h160v-160H620v160Z\"/>\n",
              "  </svg>\n",
              "    </button>\n",
              "\n",
              "  <style>\n",
              "    .colab-df-container {\n",
              "      display:flex;\n",
              "      gap: 12px;\n",
              "    }\n",
              "\n",
              "    .colab-df-convert {\n",
              "      background-color: #E8F0FE;\n",
              "      border: none;\n",
              "      border-radius: 50%;\n",
              "      cursor: pointer;\n",
              "      display: none;\n",
              "      fill: #1967D2;\n",
              "      height: 32px;\n",
              "      padding: 0 0 0 0;\n",
              "      width: 32px;\n",
              "    }\n",
              "\n",
              "    .colab-df-convert:hover {\n",
              "      background-color: #E2EBFA;\n",
              "      box-shadow: 0px 1px 2px rgba(60, 64, 67, 0.3), 0px 1px 3px 1px rgba(60, 64, 67, 0.15);\n",
              "      fill: #174EA6;\n",
              "    }\n",
              "\n",
              "    .colab-df-buttons div {\n",
              "      margin-bottom: 4px;\n",
              "    }\n",
              "\n",
              "    [theme=dark] .colab-df-convert {\n",
              "      background-color: #3B4455;\n",
              "      fill: #D2E3FC;\n",
              "    }\n",
              "\n",
              "    [theme=dark] .colab-df-convert:hover {\n",
              "      background-color: #434B5C;\n",
              "      box-shadow: 0px 1px 3px 1px rgba(0, 0, 0, 0.15);\n",
              "      filter: drop-shadow(0px 1px 2px rgba(0, 0, 0, 0.3));\n",
              "      fill: #FFFFFF;\n",
              "    }\n",
              "  </style>\n",
              "\n",
              "    <script>\n",
              "      const buttonEl =\n",
              "        document.querySelector('#df-535c3984-439e-4666-bfee-988e65cd9593 button.colab-df-convert');\n",
              "      buttonEl.style.display =\n",
              "        google.colab.kernel.accessAllowed ? 'block' : 'none';\n",
              "\n",
              "      async function convertToInteractive(key) {\n",
              "        const element = document.querySelector('#df-535c3984-439e-4666-bfee-988e65cd9593');\n",
              "        const dataTable =\n",
              "          await google.colab.kernel.invokeFunction('convertToInteractive',\n",
              "                                                    [key], {});\n",
              "        if (!dataTable) return;\n",
              "\n",
              "        const docLinkHtml = 'Like what you see? Visit the ' +\n",
              "          '<a target=\"_blank\" href=https://colab.research.google.com/notebooks/data_table.ipynb>data table notebook</a>'\n",
              "          + ' to learn more about interactive tables.';\n",
              "        element.innerHTML = '';\n",
              "        dataTable['output_type'] = 'display_data';\n",
              "        await google.colab.output.renderOutput(dataTable, element);\n",
              "        const docLink = document.createElement('div');\n",
              "        docLink.innerHTML = docLinkHtml;\n",
              "        element.appendChild(docLink);\n",
              "      }\n",
              "    </script>\n",
              "  </div>\n",
              "\n",
              "\n",
              "<div id=\"df-17fff8a8-e8b0-4352-9d02-046b1162c2ab\">\n",
              "  <button class=\"colab-df-quickchart\" onclick=\"quickchart('df-17fff8a8-e8b0-4352-9d02-046b1162c2ab')\"\n",
              "            title=\"Suggest charts\"\n",
              "            style=\"display:none;\">\n",
              "\n",
              "<svg xmlns=\"http://www.w3.org/2000/svg\" height=\"24px\"viewBox=\"0 0 24 24\"\n",
              "     width=\"24px\">\n",
              "    <g>\n",
              "        <path d=\"M19 3H5c-1.1 0-2 .9-2 2v14c0 1.1.9 2 2 2h14c1.1 0 2-.9 2-2V5c0-1.1-.9-2-2-2zM9 17H7v-7h2v7zm4 0h-2V7h2v10zm4 0h-2v-4h2v4z\"/>\n",
              "    </g>\n",
              "</svg>\n",
              "  </button>\n",
              "\n",
              "<style>\n",
              "  .colab-df-quickchart {\n",
              "      --bg-color: #E8F0FE;\n",
              "      --fill-color: #1967D2;\n",
              "      --hover-bg-color: #E2EBFA;\n",
              "      --hover-fill-color: #174EA6;\n",
              "      --disabled-fill-color: #AAA;\n",
              "      --disabled-bg-color: #DDD;\n",
              "  }\n",
              "\n",
              "  [theme=dark] .colab-df-quickchart {\n",
              "      --bg-color: #3B4455;\n",
              "      --fill-color: #D2E3FC;\n",
              "      --hover-bg-color: #434B5C;\n",
              "      --hover-fill-color: #FFFFFF;\n",
              "      --disabled-bg-color: #3B4455;\n",
              "      --disabled-fill-color: #666;\n",
              "  }\n",
              "\n",
              "  .colab-df-quickchart {\n",
              "    background-color: var(--bg-color);\n",
              "    border: none;\n",
              "    border-radius: 50%;\n",
              "    cursor: pointer;\n",
              "    display: none;\n",
              "    fill: var(--fill-color);\n",
              "    height: 32px;\n",
              "    padding: 0;\n",
              "    width: 32px;\n",
              "  }\n",
              "\n",
              "  .colab-df-quickchart:hover {\n",
              "    background-color: var(--hover-bg-color);\n",
              "    box-shadow: 0 1px 2px rgba(60, 64, 67, 0.3), 0 1px 3px 1px rgba(60, 64, 67, 0.15);\n",
              "    fill: var(--button-hover-fill-color);\n",
              "  }\n",
              "\n",
              "  .colab-df-quickchart-complete:disabled,\n",
              "  .colab-df-quickchart-complete:disabled:hover {\n",
              "    background-color: var(--disabled-bg-color);\n",
              "    fill: var(--disabled-fill-color);\n",
              "    box-shadow: none;\n",
              "  }\n",
              "\n",
              "  .colab-df-spinner {\n",
              "    border: 2px solid var(--fill-color);\n",
              "    border-color: transparent;\n",
              "    border-bottom-color: var(--fill-color);\n",
              "    animation:\n",
              "      spin 1s steps(1) infinite;\n",
              "  }\n",
              "\n",
              "  @keyframes spin {\n",
              "    0% {\n",
              "      border-color: transparent;\n",
              "      border-bottom-color: var(--fill-color);\n",
              "      border-left-color: var(--fill-color);\n",
              "    }\n",
              "    20% {\n",
              "      border-color: transparent;\n",
              "      border-left-color: var(--fill-color);\n",
              "      border-top-color: var(--fill-color);\n",
              "    }\n",
              "    30% {\n",
              "      border-color: transparent;\n",
              "      border-left-color: var(--fill-color);\n",
              "      border-top-color: var(--fill-color);\n",
              "      border-right-color: var(--fill-color);\n",
              "    }\n",
              "    40% {\n",
              "      border-color: transparent;\n",
              "      border-right-color: var(--fill-color);\n",
              "      border-top-color: var(--fill-color);\n",
              "    }\n",
              "    60% {\n",
              "      border-color: transparent;\n",
              "      border-right-color: var(--fill-color);\n",
              "    }\n",
              "    80% {\n",
              "      border-color: transparent;\n",
              "      border-right-color: var(--fill-color);\n",
              "      border-bottom-color: var(--fill-color);\n",
              "    }\n",
              "    90% {\n",
              "      border-color: transparent;\n",
              "      border-bottom-color: var(--fill-color);\n",
              "    }\n",
              "  }\n",
              "</style>\n",
              "\n",
              "  <script>\n",
              "    async function quickchart(key) {\n",
              "      const quickchartButtonEl =\n",
              "        document.querySelector('#' + key + ' button');\n",
              "      quickchartButtonEl.disabled = true;  // To prevent multiple clicks.\n",
              "      quickchartButtonEl.classList.add('colab-df-spinner');\n",
              "      try {\n",
              "        const charts = await google.colab.kernel.invokeFunction(\n",
              "            'suggestCharts', [key], {});\n",
              "      } catch (error) {\n",
              "        console.error('Error during call to suggestCharts:', error);\n",
              "      }\n",
              "      quickchartButtonEl.classList.remove('colab-df-spinner');\n",
              "      quickchartButtonEl.classList.add('colab-df-quickchart-complete');\n",
              "    }\n",
              "    (() => {\n",
              "      let quickchartButtonEl =\n",
              "        document.querySelector('#df-17fff8a8-e8b0-4352-9d02-046b1162c2ab button');\n",
              "      quickchartButtonEl.style.display =\n",
              "        google.colab.kernel.accessAllowed ? 'block' : 'none';\n",
              "    })();\n",
              "  </script>\n",
              "</div>\n",
              "\n",
              "    </div>\n",
              "  </div>\n"
            ]
          },
          "metadata": {},
          "execution_count": 4
        }
      ],
      "source": [
        "# reading file to see the values\n",
        "df = pd.read_csv('/content/drive/MyDrive/Colab Notebooks/data science/Final/Activation.csv')\n",
        "df.head()"
      ]
    },
    {
      "cell_type": "code",
      "source": [
        "dfnew = df(([df['STATUS'] == 'Deactive']) and ([df['SEGMENT1'] == 'Postpaid']))"
      ],
      "metadata": {
        "colab": {
          "base_uri": "https://localhost:8080/",
          "height": 179
        },
        "id": "T-uWQFKQVlB9",
        "outputId": "07543d4a-0803-402c-f54a-f5847049e529"
      },
      "execution_count": null,
      "outputs": [
        {
          "output_type": "error",
          "ename": "TypeError",
          "evalue": "'DataFrame' object is not callable",
          "traceback": [
            "\u001b[0;31m---------------------------------------------------------------------------\u001b[0m",
            "\u001b[0;31mTypeError\u001b[0m                                 Traceback (most recent call last)",
            "\u001b[0;32m<ipython-input-7-47a01bd73b00>\u001b[0m in \u001b[0;36m<cell line: 1>\u001b[0;34m()\u001b[0m\n\u001b[0;32m----> 1\u001b[0;31m \u001b[0mdfnew\u001b[0m \u001b[0;34m=\u001b[0m \u001b[0mdf\u001b[0m\u001b[0;34m(\u001b[0m\u001b[0;34m(\u001b[0m\u001b[0;34m[\u001b[0m\u001b[0mdf\u001b[0m\u001b[0;34m[\u001b[0m\u001b[0;34m'STATUS'\u001b[0m\u001b[0;34m]\u001b[0m \u001b[0;34m==\u001b[0m \u001b[0;34m'Deactive'\u001b[0m\u001b[0;34m]\u001b[0m\u001b[0;34m)\u001b[0m \u001b[0;32mand\u001b[0m \u001b[0;34m(\u001b[0m\u001b[0;34m[\u001b[0m\u001b[0mdf\u001b[0m\u001b[0;34m[\u001b[0m\u001b[0;34m'SEGMENT1'\u001b[0m\u001b[0;34m]\u001b[0m \u001b[0;34m==\u001b[0m \u001b[0;34m'Postpaid'\u001b[0m\u001b[0;34m]\u001b[0m\u001b[0;34m)\u001b[0m\u001b[0;34m)\u001b[0m\u001b[0;34m\u001b[0m\u001b[0;34m\u001b[0m\u001b[0m\n\u001b[0m",
            "\u001b[0;31mTypeError\u001b[0m: 'DataFrame' object is not callable"
          ]
        }
      ]
    },
    {
      "cell_type": "code",
      "source": [
        "dfnew = df[df['STATUS'] == 'Deactive']\n",
        "dfnew = dfnew[dfnew['SEGMENT1'] == 'Postpaid']"
      ],
      "metadata": {
        "id": "FEXnLA6mWkuc"
      },
      "execution_count": null,
      "outputs": []
    },
    {
      "cell_type": "code",
      "source": [
        "dfnew.head()"
      ],
      "metadata": {
        "colab": {
          "base_uri": "https://localhost:8080/",
          "height": 451
        },
        "id": "nw-O0fOGWomz",
        "outputId": "65421faa-1958-45d9-8390-b8c4ede02fcf"
      },
      "execution_count": null,
      "outputs": [
        {
          "output_type": "execute_result",
          "data": {
            "text/plain": [
              "       CO_ID USER_CREATED_BY     MSISDN POS_MSISDN             DISTRIBUTER  \\\n",
              "3   31654015        DPNB1876  529853159        NaN  FNTFRPRJTF TBLFT TTPDL   \n",
              "4   31237322        DPNB1876  883224490        NaN  FNTFRPRJTF TBLFT TTPDL   \n",
              "10  31652214        DPNB1876  529848546        NaN  FNTFRPRJTF TBLFT TTPDL   \n",
              "11  31804745        TBBZ1911  890687852        NaN  FNTFRPRJTF TBLFT TTPDL   \n",
              "17  31655551        DPNB1876  529852031        NaN  FNTFRPRJTF TBLFT TTPDL   \n",
              "\n",
              "       Plan_Name ACTIVE_DATE DEACTIVE_DATE  Customer Tenure Tenure Category  \\\n",
              "3      Orange 90   9/13/2023    10/22/2023               39      Short-term   \n",
              "4      Orange 60   8/10/2023     8/28/2023               18      Short-term   \n",
              "10     Orange 90   9/12/2023    10/22/2023               40      Short-term   \n",
              "11  Economy Plan  10/23/2023    11/12/2023               20      Short-term   \n",
              "17     Orange 90   9/13/2023    10/22/2023               39      Short-term   \n",
              "\n",
              "      STATUS           Status Reason  SEGMENT1   SEGMENT2  Churn Flag  \\\n",
              "3   Deactive         Service Quality  Postpaid  Corporate           1   \n",
              "4   Deactive           Lack of Usage  Postpaid  Corporate           1   \n",
              "10  Deactive  Technical Difficulties  Postpaid  Corporate           1   \n",
              "11  Deactive                   Moved  Postpaid  Corporate           1   \n",
              "17  Deactive          Billing Issues  Postpaid  Corporate           1   \n",
              "\n",
              "    Customer Interaction Score  Loyalty Points Data Usage Tier  \\\n",
              "3                            9              73             NaN   \n",
              "4                            5              10             NaN   \n",
              "10                           5              87             NaN   \n",
              "11                           3              84             NaN   \n",
              "17                           6              41          Medium   \n",
              "\n",
              "   Customer Segment Change Flag  \n",
              "3                          TRUE  \n",
              "4                          TRUE  \n",
              "10                         TRUE  \n",
              "11                         TRUE  \n",
              "17                         TRUE  "
            ],
            "text/html": [
              "\n",
              "  <div id=\"df-a2c88db5-0d9c-4ba1-a91c-dca8ce30fc81\" class=\"colab-df-container\">\n",
              "    <div>\n",
              "<style scoped>\n",
              "    .dataframe tbody tr th:only-of-type {\n",
              "        vertical-align: middle;\n",
              "    }\n",
              "\n",
              "    .dataframe tbody tr th {\n",
              "        vertical-align: top;\n",
              "    }\n",
              "\n",
              "    .dataframe thead th {\n",
              "        text-align: right;\n",
              "    }\n",
              "</style>\n",
              "<table border=\"1\" class=\"dataframe\">\n",
              "  <thead>\n",
              "    <tr style=\"text-align: right;\">\n",
              "      <th></th>\n",
              "      <th>CO_ID</th>\n",
              "      <th>USER_CREATED_BY</th>\n",
              "      <th>MSISDN</th>\n",
              "      <th>POS_MSISDN</th>\n",
              "      <th>DISTRIBUTER</th>\n",
              "      <th>Plan_Name</th>\n",
              "      <th>ACTIVE_DATE</th>\n",
              "      <th>DEACTIVE_DATE</th>\n",
              "      <th>Customer Tenure</th>\n",
              "      <th>Tenure Category</th>\n",
              "      <th>STATUS</th>\n",
              "      <th>Status Reason</th>\n",
              "      <th>SEGMENT1</th>\n",
              "      <th>SEGMENT2</th>\n",
              "      <th>Churn Flag</th>\n",
              "      <th>Customer Interaction Score</th>\n",
              "      <th>Loyalty Points</th>\n",
              "      <th>Data Usage Tier</th>\n",
              "      <th>Customer Segment Change Flag</th>\n",
              "    </tr>\n",
              "  </thead>\n",
              "  <tbody>\n",
              "    <tr>\n",
              "      <th>3</th>\n",
              "      <td>31654015</td>\n",
              "      <td>DPNB1876</td>\n",
              "      <td>529853159</td>\n",
              "      <td>NaN</td>\n",
              "      <td>FNTFRPRJTF TBLFT TTPDL</td>\n",
              "      <td>Orange 90</td>\n",
              "      <td>9/13/2023</td>\n",
              "      <td>10/22/2023</td>\n",
              "      <td>39</td>\n",
              "      <td>Short-term</td>\n",
              "      <td>Deactive</td>\n",
              "      <td>Service Quality</td>\n",
              "      <td>Postpaid</td>\n",
              "      <td>Corporate</td>\n",
              "      <td>1</td>\n",
              "      <td>9</td>\n",
              "      <td>73</td>\n",
              "      <td>NaN</td>\n",
              "      <td>TRUE</td>\n",
              "    </tr>\n",
              "    <tr>\n",
              "      <th>4</th>\n",
              "      <td>31237322</td>\n",
              "      <td>DPNB1876</td>\n",
              "      <td>883224490</td>\n",
              "      <td>NaN</td>\n",
              "      <td>FNTFRPRJTF TBLFT TTPDL</td>\n",
              "      <td>Orange 60</td>\n",
              "      <td>8/10/2023</td>\n",
              "      <td>8/28/2023</td>\n",
              "      <td>18</td>\n",
              "      <td>Short-term</td>\n",
              "      <td>Deactive</td>\n",
              "      <td>Lack of Usage</td>\n",
              "      <td>Postpaid</td>\n",
              "      <td>Corporate</td>\n",
              "      <td>1</td>\n",
              "      <td>5</td>\n",
              "      <td>10</td>\n",
              "      <td>NaN</td>\n",
              "      <td>TRUE</td>\n",
              "    </tr>\n",
              "    <tr>\n",
              "      <th>10</th>\n",
              "      <td>31652214</td>\n",
              "      <td>DPNB1876</td>\n",
              "      <td>529848546</td>\n",
              "      <td>NaN</td>\n",
              "      <td>FNTFRPRJTF TBLFT TTPDL</td>\n",
              "      <td>Orange 90</td>\n",
              "      <td>9/12/2023</td>\n",
              "      <td>10/22/2023</td>\n",
              "      <td>40</td>\n",
              "      <td>Short-term</td>\n",
              "      <td>Deactive</td>\n",
              "      <td>Technical Difficulties</td>\n",
              "      <td>Postpaid</td>\n",
              "      <td>Corporate</td>\n",
              "      <td>1</td>\n",
              "      <td>5</td>\n",
              "      <td>87</td>\n",
              "      <td>NaN</td>\n",
              "      <td>TRUE</td>\n",
              "    </tr>\n",
              "    <tr>\n",
              "      <th>11</th>\n",
              "      <td>31804745</td>\n",
              "      <td>TBBZ1911</td>\n",
              "      <td>890687852</td>\n",
              "      <td>NaN</td>\n",
              "      <td>FNTFRPRJTF TBLFT TTPDL</td>\n",
              "      <td>Economy Plan</td>\n",
              "      <td>10/23/2023</td>\n",
              "      <td>11/12/2023</td>\n",
              "      <td>20</td>\n",
              "      <td>Short-term</td>\n",
              "      <td>Deactive</td>\n",
              "      <td>Moved</td>\n",
              "      <td>Postpaid</td>\n",
              "      <td>Corporate</td>\n",
              "      <td>1</td>\n",
              "      <td>3</td>\n",
              "      <td>84</td>\n",
              "      <td>NaN</td>\n",
              "      <td>TRUE</td>\n",
              "    </tr>\n",
              "    <tr>\n",
              "      <th>17</th>\n",
              "      <td>31655551</td>\n",
              "      <td>DPNB1876</td>\n",
              "      <td>529852031</td>\n",
              "      <td>NaN</td>\n",
              "      <td>FNTFRPRJTF TBLFT TTPDL</td>\n",
              "      <td>Orange 90</td>\n",
              "      <td>9/13/2023</td>\n",
              "      <td>10/22/2023</td>\n",
              "      <td>39</td>\n",
              "      <td>Short-term</td>\n",
              "      <td>Deactive</td>\n",
              "      <td>Billing Issues</td>\n",
              "      <td>Postpaid</td>\n",
              "      <td>Corporate</td>\n",
              "      <td>1</td>\n",
              "      <td>6</td>\n",
              "      <td>41</td>\n",
              "      <td>Medium</td>\n",
              "      <td>TRUE</td>\n",
              "    </tr>\n",
              "  </tbody>\n",
              "</table>\n",
              "</div>\n",
              "    <div class=\"colab-df-buttons\">\n",
              "\n",
              "  <div class=\"colab-df-container\">\n",
              "    <button class=\"colab-df-convert\" onclick=\"convertToInteractive('df-a2c88db5-0d9c-4ba1-a91c-dca8ce30fc81')\"\n",
              "            title=\"Convert this dataframe to an interactive table.\"\n",
              "            style=\"display:none;\">\n",
              "\n",
              "  <svg xmlns=\"http://www.w3.org/2000/svg\" height=\"24px\" viewBox=\"0 -960 960 960\">\n",
              "    <path d=\"M120-120v-720h720v720H120Zm60-500h600v-160H180v160Zm220 220h160v-160H400v160Zm0 220h160v-160H400v160ZM180-400h160v-160H180v160Zm440 0h160v-160H620v160ZM180-180h160v-160H180v160Zm440 0h160v-160H620v160Z\"/>\n",
              "  </svg>\n",
              "    </button>\n",
              "\n",
              "  <style>\n",
              "    .colab-df-container {\n",
              "      display:flex;\n",
              "      gap: 12px;\n",
              "    }\n",
              "\n",
              "    .colab-df-convert {\n",
              "      background-color: #E8F0FE;\n",
              "      border: none;\n",
              "      border-radius: 50%;\n",
              "      cursor: pointer;\n",
              "      display: none;\n",
              "      fill: #1967D2;\n",
              "      height: 32px;\n",
              "      padding: 0 0 0 0;\n",
              "      width: 32px;\n",
              "    }\n",
              "\n",
              "    .colab-df-convert:hover {\n",
              "      background-color: #E2EBFA;\n",
              "      box-shadow: 0px 1px 2px rgba(60, 64, 67, 0.3), 0px 1px 3px 1px rgba(60, 64, 67, 0.15);\n",
              "      fill: #174EA6;\n",
              "    }\n",
              "\n",
              "    .colab-df-buttons div {\n",
              "      margin-bottom: 4px;\n",
              "    }\n",
              "\n",
              "    [theme=dark] .colab-df-convert {\n",
              "      background-color: #3B4455;\n",
              "      fill: #D2E3FC;\n",
              "    }\n",
              "\n",
              "    [theme=dark] .colab-df-convert:hover {\n",
              "      background-color: #434B5C;\n",
              "      box-shadow: 0px 1px 3px 1px rgba(0, 0, 0, 0.15);\n",
              "      filter: drop-shadow(0px 1px 2px rgba(0, 0, 0, 0.3));\n",
              "      fill: #FFFFFF;\n",
              "    }\n",
              "  </style>\n",
              "\n",
              "    <script>\n",
              "      const buttonEl =\n",
              "        document.querySelector('#df-a2c88db5-0d9c-4ba1-a91c-dca8ce30fc81 button.colab-df-convert');\n",
              "      buttonEl.style.display =\n",
              "        google.colab.kernel.accessAllowed ? 'block' : 'none';\n",
              "\n",
              "      async function convertToInteractive(key) {\n",
              "        const element = document.querySelector('#df-a2c88db5-0d9c-4ba1-a91c-dca8ce30fc81');\n",
              "        const dataTable =\n",
              "          await google.colab.kernel.invokeFunction('convertToInteractive',\n",
              "                                                    [key], {});\n",
              "        if (!dataTable) return;\n",
              "\n",
              "        const docLinkHtml = 'Like what you see? Visit the ' +\n",
              "          '<a target=\"_blank\" href=https://colab.research.google.com/notebooks/data_table.ipynb>data table notebook</a>'\n",
              "          + ' to learn more about interactive tables.';\n",
              "        element.innerHTML = '';\n",
              "        dataTable['output_type'] = 'display_data';\n",
              "        await google.colab.output.renderOutput(dataTable, element);\n",
              "        const docLink = document.createElement('div');\n",
              "        docLink.innerHTML = docLinkHtml;\n",
              "        element.appendChild(docLink);\n",
              "      }\n",
              "    </script>\n",
              "  </div>\n",
              "\n",
              "\n",
              "<div id=\"df-d463ca25-11f5-43cd-827c-b2ff0c6c1438\">\n",
              "  <button class=\"colab-df-quickchart\" onclick=\"quickchart('df-d463ca25-11f5-43cd-827c-b2ff0c6c1438')\"\n",
              "            title=\"Suggest charts\"\n",
              "            style=\"display:none;\">\n",
              "\n",
              "<svg xmlns=\"http://www.w3.org/2000/svg\" height=\"24px\"viewBox=\"0 0 24 24\"\n",
              "     width=\"24px\">\n",
              "    <g>\n",
              "        <path d=\"M19 3H5c-1.1 0-2 .9-2 2v14c0 1.1.9 2 2 2h14c1.1 0 2-.9 2-2V5c0-1.1-.9-2-2-2zM9 17H7v-7h2v7zm4 0h-2V7h2v10zm4 0h-2v-4h2v4z\"/>\n",
              "    </g>\n",
              "</svg>\n",
              "  </button>\n",
              "\n",
              "<style>\n",
              "  .colab-df-quickchart {\n",
              "      --bg-color: #E8F0FE;\n",
              "      --fill-color: #1967D2;\n",
              "      --hover-bg-color: #E2EBFA;\n",
              "      --hover-fill-color: #174EA6;\n",
              "      --disabled-fill-color: #AAA;\n",
              "      --disabled-bg-color: #DDD;\n",
              "  }\n",
              "\n",
              "  [theme=dark] .colab-df-quickchart {\n",
              "      --bg-color: #3B4455;\n",
              "      --fill-color: #D2E3FC;\n",
              "      --hover-bg-color: #434B5C;\n",
              "      --hover-fill-color: #FFFFFF;\n",
              "      --disabled-bg-color: #3B4455;\n",
              "      --disabled-fill-color: #666;\n",
              "  }\n",
              "\n",
              "  .colab-df-quickchart {\n",
              "    background-color: var(--bg-color);\n",
              "    border: none;\n",
              "    border-radius: 50%;\n",
              "    cursor: pointer;\n",
              "    display: none;\n",
              "    fill: var(--fill-color);\n",
              "    height: 32px;\n",
              "    padding: 0;\n",
              "    width: 32px;\n",
              "  }\n",
              "\n",
              "  .colab-df-quickchart:hover {\n",
              "    background-color: var(--hover-bg-color);\n",
              "    box-shadow: 0 1px 2px rgba(60, 64, 67, 0.3), 0 1px 3px 1px rgba(60, 64, 67, 0.15);\n",
              "    fill: var(--button-hover-fill-color);\n",
              "  }\n",
              "\n",
              "  .colab-df-quickchart-complete:disabled,\n",
              "  .colab-df-quickchart-complete:disabled:hover {\n",
              "    background-color: var(--disabled-bg-color);\n",
              "    fill: var(--disabled-fill-color);\n",
              "    box-shadow: none;\n",
              "  }\n",
              "\n",
              "  .colab-df-spinner {\n",
              "    border: 2px solid var(--fill-color);\n",
              "    border-color: transparent;\n",
              "    border-bottom-color: var(--fill-color);\n",
              "    animation:\n",
              "      spin 1s steps(1) infinite;\n",
              "  }\n",
              "\n",
              "  @keyframes spin {\n",
              "    0% {\n",
              "      border-color: transparent;\n",
              "      border-bottom-color: var(--fill-color);\n",
              "      border-left-color: var(--fill-color);\n",
              "    }\n",
              "    20% {\n",
              "      border-color: transparent;\n",
              "      border-left-color: var(--fill-color);\n",
              "      border-top-color: var(--fill-color);\n",
              "    }\n",
              "    30% {\n",
              "      border-color: transparent;\n",
              "      border-left-color: var(--fill-color);\n",
              "      border-top-color: var(--fill-color);\n",
              "      border-right-color: var(--fill-color);\n",
              "    }\n",
              "    40% {\n",
              "      border-color: transparent;\n",
              "      border-right-color: var(--fill-color);\n",
              "      border-top-color: var(--fill-color);\n",
              "    }\n",
              "    60% {\n",
              "      border-color: transparent;\n",
              "      border-right-color: var(--fill-color);\n",
              "    }\n",
              "    80% {\n",
              "      border-color: transparent;\n",
              "      border-right-color: var(--fill-color);\n",
              "      border-bottom-color: var(--fill-color);\n",
              "    }\n",
              "    90% {\n",
              "      border-color: transparent;\n",
              "      border-bottom-color: var(--fill-color);\n",
              "    }\n",
              "  }\n",
              "</style>\n",
              "\n",
              "  <script>\n",
              "    async function quickchart(key) {\n",
              "      const quickchartButtonEl =\n",
              "        document.querySelector('#' + key + ' button');\n",
              "      quickchartButtonEl.disabled = true;  // To prevent multiple clicks.\n",
              "      quickchartButtonEl.classList.add('colab-df-spinner');\n",
              "      try {\n",
              "        const charts = await google.colab.kernel.invokeFunction(\n",
              "            'suggestCharts', [key], {});\n",
              "      } catch (error) {\n",
              "        console.error('Error during call to suggestCharts:', error);\n",
              "      }\n",
              "      quickchartButtonEl.classList.remove('colab-df-spinner');\n",
              "      quickchartButtonEl.classList.add('colab-df-quickchart-complete');\n",
              "    }\n",
              "    (() => {\n",
              "      let quickchartButtonEl =\n",
              "        document.querySelector('#df-d463ca25-11f5-43cd-827c-b2ff0c6c1438 button');\n",
              "      quickchartButtonEl.style.display =\n",
              "        google.colab.kernel.accessAllowed ? 'block' : 'none';\n",
              "    })();\n",
              "  </script>\n",
              "</div>\n",
              "\n",
              "    </div>\n",
              "  </div>\n"
            ]
          },
          "metadata": {},
          "execution_count": 14
        }
      ]
    },
    {
      "cell_type": "code",
      "execution_count": null,
      "metadata": {
        "id": "Gy9jzD_g0gUQ"
      },
      "outputs": [],
      "source": [
        "# how many nulls?\n",
        "df.isnull().sum()"
      ]
    },
    {
      "cell_type": "code",
      "execution_count": null,
      "metadata": {
        "id": "oO46Tq4L0yXh"
      },
      "outputs": [],
      "source": [
        "# data types?\n",
        "df.info()"
      ]
    },
    {
      "cell_type": "code",
      "execution_count": null,
      "metadata": {
        "id": "QfQRY9ah05yi"
      },
      "outputs": [],
      "source": [
        "# are there any duplicates\n",
        "df.duplicated().sum()"
      ]
    },
    {
      "cell_type": "code",
      "execution_count": null,
      "metadata": {
        "id": "J8xgOI8wzwR6"
      },
      "outputs": [],
      "source": [
        "# what are they\n",
        "df[df.duplicated()]"
      ]
    },
    {
      "cell_type": "code",
      "execution_count": null,
      "metadata": {
        "id": "fhtHwdrTgfsC"
      },
      "outputs": [],
      "source": [
        "# Dropping Duplicates\n",
        "df = df.drop_duplicates()\n",
        "df.duplicated().sum()"
      ]
    },
    {
      "cell_type": "code",
      "execution_count": null,
      "metadata": {
        "id": "YMximC-Uz2ut"
      },
      "outputs": [],
      "source": [
        "# Data Types\n",
        "df.info()"
      ]
    },
    {
      "cell_type": "code",
      "execution_count": null,
      "metadata": {
        "id": "2UJZx6PI0Fa8"
      },
      "outputs": [],
      "source": [
        "# I'm now gonna take a look at the values for cols with type object"
      ]
    },
    {
      "cell_type": "code",
      "execution_count": null,
      "metadata": {
        "id": "Hv1fqkZqbgaE"
      },
      "outputs": [],
      "source": [
        "df['Churn Flag'].value_counts()"
      ]
    },
    {
      "cell_type": "code",
      "execution_count": null,
      "metadata": {
        "id": "WjI9d_kHgsRn"
      },
      "outputs": [],
      "source": [
        "df['USER_CREATED_BY'].value_counts()"
      ]
    },
    {
      "cell_type": "code",
      "execution_count": null,
      "metadata": {
        "id": "-qeE83pP0Std"
      },
      "outputs": [],
      "source": [
        "df['POS_MSISDN'].value_counts()"
      ]
    },
    {
      "cell_type": "code",
      "execution_count": null,
      "metadata": {
        "id": "ciPpADnc03Co"
      },
      "outputs": [],
      "source": [
        "df['DISTRIBUTER'].value_counts()"
      ]
    },
    {
      "cell_type": "code",
      "execution_count": null,
      "metadata": {
        "id": "_lKC10n81JAj"
      },
      "outputs": [],
      "source": [
        "df['Plan_Name'].value_counts()"
      ]
    },
    {
      "cell_type": "code",
      "execution_count": null,
      "metadata": {
        "id": "jN6ZpNyJ1VqC"
      },
      "outputs": [],
      "source": [
        "df['ACTIVE_DATE'].value_counts()"
      ]
    },
    {
      "cell_type": "code",
      "execution_count": null,
      "metadata": {
        "id": "VK2Y6quxhbTc"
      },
      "outputs": [],
      "source": [
        "# Change ACTIVE_DATE to date time\n",
        "df['ACTIVE_DATE'] = pd.to_datetime(df['ACTIVE_DATE'])\n",
        "\n",
        "# Error: why?"
      ]
    },
    {
      "cell_type": "code",
      "execution_count": null,
      "metadata": {
        "id": "Nr54mTyx1hPx"
      },
      "outputs": [],
      "source": [
        "df['DEACTIVE_DATE'].value_counts()"
      ]
    },
    {
      "cell_type": "code",
      "execution_count": null,
      "metadata": {
        "id": "gGg8vP-o1xiZ"
      },
      "outputs": [],
      "source": [
        "df['Tenure Category'].value_counts()\n",
        "  # short term & short\n",
        "  # medium term & medium\n",
        "  # long term & long"
      ]
    },
    {
      "cell_type": "code",
      "execution_count": null,
      "metadata": {
        "id": "OUL_rm-J3ieQ"
      },
      "outputs": [],
      "source": [
        "# Fixing 'Tenure Category' inconsistency\n",
        "\n",
        "# making sure there's no white spaces\n",
        "df['Tenure Category'] = df['Tenure Category'].str.strip()\n",
        "\n",
        "# creating a dict for replacement purposes\n",
        "tenure_map = {'Short': 'Short-term',\n",
        "                   'Medium': 'Medium-term',\n",
        "                   'Long': 'Long-term'}\n",
        "\n",
        "# replacing the inconsistent values\n",
        "df['Tenure Category'] = df['Tenure Category'].replace(tenure_map)\n",
        "\n",
        "# checking work: Result = Success\n",
        "df['Tenure Category'].value_counts()"
      ]
    },
    {
      "cell_type": "code",
      "execution_count": null,
      "metadata": {
        "id": "xp3WUEFp16A1"
      },
      "outputs": [],
      "source": [
        "df['STATUS'].value_counts()\n",
        "  # issue found > with cases\n",
        "  # (s)uspended & (S)uspended"
      ]
    },
    {
      "cell_type": "code",
      "execution_count": null,
      "metadata": {
        "id": "Nf4MX8J_tjdy"
      },
      "outputs": [],
      "source": [
        "# fixing 'STATUS' inconsistency\n",
        "\n",
        "# dict to replace\n",
        "status_map = {'Hard suspended': 'Hard Suspended',\n",
        "              'Soft suspended': 'Soft Suspended'}\n",
        "\n",
        "# replacing\n",
        "df['STATUS'] = df['STATUS'].replace(status_map)\n",
        "\n",
        "# checking, Result = Success\n",
        "df['STATUS'].value_counts()"
      ]
    },
    {
      "cell_type": "code",
      "execution_count": null,
      "metadata": {
        "id": "qJjnNXJE2NYi"
      },
      "outputs": [],
      "source": [
        "df['Status Reason'].value_counts()\n",
        "  # nothing big, just inconsistency in cases (caps)"
      ]
    },
    {
      "cell_type": "code",
      "execution_count": null,
      "metadata": {
        "id": "w33G7YdDuw7z"
      },
      "outputs": [],
      "source": [
        "# fixing 'Status Reason' inconsistency\n",
        "\n",
        "# dict to replace\n",
        "reason_map = {'Violation of terms': 'Violation of Terms',\n",
        "              'Illegal usage': 'Illegal Usage',\n",
        "              'Fraudulent activity': 'Fraudulent Activity',\n",
        "              'Document verification': 'Document Verification',\n",
        "              'Service upgrade': 'Service Upgrade',\n",
        "              'Technical issue': 'Technical Issue',\n",
        "              'Customer request': 'Customer Request'}\n",
        "\n",
        "# replacing\n",
        "df['Status Reason'] = df['Status Reason'].replace(reason_map)\n",
        "\n",
        "# checking, Result = Successful\n",
        "df['Status Reason'].value_counts()"
      ]
    },
    {
      "cell_type": "code",
      "execution_count": null,
      "metadata": {
        "id": "Dx0g9zV82eEt"
      },
      "outputs": [],
      "source": [
        "df['SEGMENT1'].value_counts()\n",
        "  # why the extra numbers"
      ]
    },
    {
      "cell_type": "code",
      "execution_count": null,
      "metadata": {
        "id": "zxnAtAZrvoFP"
      },
      "outputs": [],
      "source": [
        "# fixing SEGMENT1 inconsistency\n",
        "\n",
        "# using str replace to remove #s with space\n",
        "df['SEGMENT1'] = df['SEGMENT1'].str.replace('100', '')\n",
        "df['SEGMENT1'] = df['SEGMENT1'].str.replace('5', '')\n",
        "df['SEGMENT1'] = df['SEGMENT1'].str.replace('300', '')\n",
        "df['SEGMENT1'] = df['SEGMENT1'].str.replace('60', '')\n",
        "df['SEGMENT1'] = df['SEGMENT1'].str.replace('400', '')\n",
        "\n",
        "# checking, Result = Successful\n",
        "df['SEGMENT1'].value_counts()"
      ]
    },
    {
      "cell_type": "code",
      "execution_count": null,
      "metadata": {
        "id": "vbyeeavo2yVa"
      },
      "outputs": [],
      "source": [
        "df['SEGMENT2'].value_counts()"
      ]
    },
    {
      "cell_type": "code",
      "execution_count": null,
      "metadata": {
        "id": "zA7Dh6aQ23mE"
      },
      "outputs": [],
      "source": [
        "df['Data Usage Tier'].value_counts()\n",
        "  # case issues > (m)edium & (M)edium"
      ]
    },
    {
      "cell_type": "code",
      "execution_count": null,
      "metadata": {
        "id": "wKl9DrNowJc7"
      },
      "outputs": [],
      "source": [
        "# fixing inconsistency in 'Data Usage Tier'\n",
        "\n",
        "# using str capitalize\n",
        "df['Data Usage Tier'] = df['Data Usage Tier'].str.capitalize()\n",
        "\n",
        "# checking, Result = Successful\n",
        "df['Data Usage Tier'].value_counts()"
      ]
    },
    {
      "cell_type": "code",
      "execution_count": null,
      "metadata": {
        "id": "7WtC8Tj-3Eiw"
      },
      "outputs": [],
      "source": [
        "df['Customer Segment Change Flag'].value_counts()\n",
        "  # has TRUE & 1, FALSE & 0"
      ]
    },
    {
      "cell_type": "code",
      "execution_count": null,
      "metadata": {
        "id": "WDA-ZVQWwk3f"
      },
      "outputs": [],
      "source": [
        "# fixing 'Customer Segment Change Flag' inconsistency\n",
        "\n",
        "# dict to replace\n",
        "flag_map = {1: 'TRUE',\n",
        "            0: 'FALSE'}\n",
        "\n",
        "# replacing\n",
        "df['Customer Segment Change Flag'] = df['Customer Segment Change Flag'].replace(flag_map)\n",
        "\n",
        "# checking, did not work > why?\n",
        "df['Customer Segment Change Flag'].value_counts()"
      ]
    },
    {
      "cell_type": "code",
      "execution_count": null,
      "metadata": {
        "id": "W0M9WeOn3Vyx"
      },
      "outputs": [],
      "source": [
        "# Checking dt, maybe not int?\n",
        "\n",
        "df['Customer Segment Change Flag'].info()\n",
        "  # dt = object, not int as suspected"
      ]
    },
    {
      "cell_type": "code",
      "execution_count": null,
      "metadata": {
        "id": "CR1Fl3sqxRLh"
      },
      "outputs": [],
      "source": [
        "# dict to replace using STRINGS\n",
        "flag_map = {'1': 'TRUE',\n",
        "            '0': 'FALSE'}\n",
        "  # dt = object, not int\n",
        "\n",
        "# replacing\n",
        "df['Customer Segment Change Flag'] = df['Customer Segment Change Flag'].replace(flag_map)\n",
        "\n",
        "# checking, Result = Successful\n",
        "df['Customer Segment Change Flag'].value_counts()"
      ]
    },
    {
      "cell_type": "code",
      "execution_count": null,
      "metadata": {
        "id": "NNLi_SFSyVhR"
      },
      "outputs": [],
      "source": [
        "# easier to type and see, consistent naming\n",
        "\n",
        "df = df.rename(columns = {'Status Reason': 'STATUS_REASON'})\n",
        "df = df.rename(columns = {'Customer Tenure': 'CUSTOMER_TENURE'})\n",
        "df = df.rename(columns = {'Tenure Category': 'TENURE_CATEGORY'})\n",
        "df = df.rename(columns = {'Plan_Name': 'PLAN_NAME'})\n",
        "df = df.rename(columns = {'Churn Flag': 'CHURN_FLAG'})\n",
        "df = df.rename(columns = {'Customer Interaction Score': 'CUSTOMER_INTERACTION_SCORE'})\n",
        "df = df.rename(columns = {'Loyalty Points': 'LOYALTY_POINTS'})\n",
        "df = df.rename(columns = {'Data Usage Tier': 'DATA_USAGE_TIER'})\n",
        "df = df.rename(columns = {'Customer Segment Change Flag': 'CUSTOMER_SEGMENT_CHANGE_FLAG'})\n",
        "\n",
        "df.info()"
      ]
    },
    {
      "cell_type": "code",
      "execution_count": null,
      "metadata": {
        "id": "PbnfPicbz2dJ"
      },
      "outputs": [],
      "source": [
        "# Checking duplicates after fixing data inconsistencies\n",
        "df.duplicated().sum()"
      ]
    },
    {
      "cell_type": "code",
      "execution_count": null,
      "metadata": {
        "id": "SYCePxVV0mwI"
      },
      "outputs": [],
      "source": [
        "# Dropping Duplicates\n",
        "df = df.drop_duplicates()\n",
        "df.duplicated().sum()"
      ]
    },
    {
      "cell_type": "code",
      "execution_count": null,
      "metadata": {
        "id": "ZEE7XXy92bpl"
      },
      "outputs": [],
      "source": [
        "# Creating copy to experiment\n",
        "tst = df.copy()\n",
        "\n",
        "# Dropping big null cols in tst for accuracte relation results\n",
        "tst = tst.drop(['POS_MSISDN', 'DEACTIVE_DATE'], axis = 1)\n",
        "tst.isnull().sum()"
      ]
    },
    {
      "cell_type": "code",
      "execution_count": null,
      "metadata": {
        "id": "TCls2epjdupx"
      },
      "outputs": [],
      "source": [
        "# Why'd I drop those 2 cols first?\n",
        "df.isnull().sum()\n",
        "\n",
        "# POS_MSISDN null = ~ 20k\n",
        "# DEACTIVE_DATE = ~20k as well\n",
        "\n",
        "'''\n",
        "Dropping ALL nulls at once causes data to disappear\n",
        "  just from these 2 columns\n",
        "'''"
      ]
    },
    {
      "cell_type": "code",
      "execution_count": null,
      "metadata": {
        "id": "J8VgFnGtibaN"
      },
      "outputs": [],
      "source": [
        "tst = tst.dropna()\n",
        "  # NOW i can drop the rest of the nulls\n",
        "  # can still maintain lots of data\n",
        "tst.isnull().sum()"
      ]
    },
    {
      "cell_type": "code",
      "execution_count": null,
      "metadata": {
        "id": "u8U8GXX44kOg"
      },
      "outputs": [],
      "source": [
        "# using label encoder to convert nominal data\n",
        "from sklearn.preprocessing import LabelEncoder\n",
        "\n",
        "# initalizing label encoder\n",
        "lbl = LabelEncoder()\n",
        "\n",
        "# cols to encode\n",
        "cols = ['USER_CREATED_BY', 'DISTRIBUTER', 'PLAN_NAME',\n",
        "        'ACTIVE_DATE', 'TENURE_CATEGORY', 'STATUS',\n",
        "        'STATUS_REASON', 'SEGMENT1', 'SEGMENT2', 'DATA_USAGE_TIER',\n",
        "        'CUSTOMER_SEGMENT_CHANGE_FLAG']\n",
        "\n",
        "# for loop for ease\n",
        "for c in cols:\n",
        "  tst[c] = lbl.fit_transform(tst[c])\n",
        "tst"
      ]
    },
    {
      "cell_type": "code",
      "execution_count": null,
      "metadata": {
        "id": "-UxTAT9M9Bky"
      },
      "outputs": [],
      "source": [
        "# Libraries for heatmap\n",
        "import seaborn as sns\n",
        "import matplotlib.pyplot as plt\n",
        "\n",
        "# Correlation\n",
        "corr = tst.corr()\n",
        "\n",
        "# Plotting\n",
        "plt.figure(figsize = (20, 15))\n",
        "sns.heatmap(corr, annot = True, linewidth = 2)\n",
        "  # linewidth just breaks apart the squares.\n",
        "plt.show()"
      ]
    },
    {
      "cell_type": "code",
      "execution_count": null,
      "metadata": {
        "id": "zC06tbh6LDC1"
      },
      "outputs": [],
      "source": [
        "# Checking cols with no nulls\n",
        "df.isnull().sum()\n",
        "\n",
        "# Why? > Use as a reference when filling in og df"
      ]
    },
    {
      "cell_type": "code",
      "execution_count": null,
      "metadata": {
        "id": "EvgITfR7RmXh"
      },
      "outputs": [],
      "source": [
        "# Highest relation with: DATA_USAGE_TIER:\n",
        "\n",
        "''' 1. CHURN_FLAG = 0.94\n",
        "2. STATUS = -0.82\n",
        "3. CUSTOMER_TENURE = -0.79\n",
        "4. SEGMENT1 = -0.74\n",
        "5. SEGMENT2 = -0.62\n",
        "6. TENURE_CATEGORY = 0.6 '''"
      ]
    },
    {
      "cell_type": "code",
      "execution_count": null,
      "metadata": {
        "id": "4tQRnmwMR_Xu"
      },
      "outputs": [],
      "source": [
        "# Another copy, for filling purposes.\n",
        "tst2 = df.copy()\n",
        "\n",
        "# Dropping same big null cols.\n",
        "tst2 = tst2.drop(['POS_MSISDN', 'DEACTIVE_DATE'], axis = 1)"
      ]
    },
    {
      "cell_type": "code",
      "execution_count": null,
      "metadata": {
        "id": "dYNLHNBgKCOR"
      },
      "outputs": [],
      "source": [
        "# Checking if copy went through as should have\n",
        "tst2.isnull().sum()"
      ]
    },
    {
      "cell_type": "code",
      "execution_count": null,
      "metadata": {
        "id": "vjkOooj1bD-s"
      },
      "outputs": [],
      "source": [
        "tst2.info()"
      ]
    },
    {
      "cell_type": "code",
      "execution_count": null,
      "metadata": {
        "id": "Kt2XwStjNy2Y"
      },
      "outputs": [],
      "source": [
        "data_usage_groupby = tst2.groupby(['CHURN_FLAG', 'DATA_USAGE_TIER'])\n",
        "data_usage_groupby['DATA_USAGE_TIER'].count()\n",
        "\n",
        "# Observation: 1 > Medium, 0 > High OR Low"
      ]
    },
    {
      "cell_type": "code",
      "execution_count": null,
      "metadata": {
        "id": "R2csr_PoU00J"
      },
      "outputs": [],
      "source": [
        "data_usage_groupby = tst2.groupby(['STATUS', 'DATA_USAGE_TIER'])\n",
        "data_usage_groupby['DATA_USAGE_TIER'].count()\n",
        "\n",
        "# Observations\n",
        "  # Active > High\n",
        "  # Deactive > Medium\n",
        "  # Hard Suspended > Low\n",
        "  # Soft Suspended > Low"
      ]
    },
    {
      "cell_type": "code",
      "execution_count": null,
      "metadata": {
        "id": "XQRsyrlFU_2G"
      },
      "outputs": [],
      "source": [
        "data_usage_groupby = tst2.groupby(['SEGMENT1', 'DATA_USAGE_TIER'])\n",
        "data_usage_groupby['DATA_USAGE_TIER'].count()\n",
        "\n",
        "# Observation: if postpaid > High"
      ]
    },
    {
      "cell_type": "code",
      "execution_count": null,
      "metadata": {
        "id": "O2LvibyxTcH6"
      },
      "outputs": [],
      "source": [
        "data_usage_groupby = tst2.groupby(['SEGMENT2', 'DATA_USAGE_TIER'])\n",
        "data_usage_groupby['DATA_USAGE_TIER'].count()\n",
        "\n",
        "# Observation\n",
        "  # won't use SEGMENT2 to determine DATA_USAGE_TIER\n",
        "  # the difference in #s is not as big as i'd like"
      ]
    },
    {
      "cell_type": "code",
      "execution_count": null,
      "metadata": {
        "id": "ORaJKnQNYHJ3"
      },
      "outputs": [],
      "source": [
        "# looking at it altogether\n",
        "\n",
        "data_usage_groupby = tst2.groupby(['CHURN_FLAG', 'STATUS', 'SEGMENT1', 'DATA_USAGE_TIER'])\n",
        "data_usage_groupby['DATA_USAGE_TIER'].count()"
      ]
    },
    {
      "cell_type": "code",
      "execution_count": null,
      "metadata": {
        "id": "OTSX6b97pQ8h"
      },
      "outputs": [],
      "source": [
        "# Alternaive Method: Mapping\n",
        "data_usage_fill = {'Active': 'High', 'Deactive': 'Medium', 'Low Suspended': 'Low', 'Hard Suspended': 'Low'}\n",
        "  # STATUS appears to be the MOST accurate way to determine DATA_USAGE_TIER\n",
        "\n",
        "# Filling\n",
        "tst2['DATA_USAGE_TIER'] = tst2['DATA_USAGE_TIER'].fillna(tst2['STATUS'].map(data_usage_fill))\n",
        "tst2['DATA_USAGE_TIER'].isnull().sum()"
      ]
    },
    {
      "cell_type": "code",
      "execution_count": null,
      "metadata": {
        "id": "Hpf-uxNT4_sg"
      },
      "outputs": [],
      "source": [
        "tst2['DATA_USAGE_TIER'].value_counts()"
      ]
    },
    {
      "cell_type": "code",
      "execution_count": null,
      "metadata": {
        "id": "ZMQFzUi6CHQJ"
      },
      "outputs": [],
      "source": [
        "# dropping null for heatmap\n",
        "tst2 = tst2.dropna()\n",
        "tst2.isnull().sum()"
      ]
    },
    {
      "cell_type": "code",
      "execution_count": null,
      "metadata": {
        "id": "BnrxgprvpqH9"
      },
      "outputs": [],
      "source": [
        "# Label Encoding - preparing for heatmap\n",
        "for c in cols:\n",
        "  tst2[c] = lbl.fit_transform(tst2[c])\n",
        "tst2"
      ]
    },
    {
      "cell_type": "code",
      "execution_count": null,
      "metadata": {
        "id": "S4OFGDsYp0J-"
      },
      "outputs": [],
      "source": [
        "# Heatmap\n",
        "import seaborn as sns\n",
        "import matplotlib.pyplot as plt\n",
        "\n",
        "corr = tst2.corr()\n",
        "plt.figure(figsize = (20, 15))\n",
        "sns.heatmap(corr, annot = True, linewidth = 2)\n",
        "  # linewidth just breaks apart the squares.\n",
        "plt.show()"
      ]
    },
    {
      "cell_type": "code",
      "execution_count": null,
      "metadata": {
        "id": "4z8heUyRp4ab"
      },
      "outputs": [],
      "source": [
        "# Observation\n",
        "'''\n",
        "EVERYTHING relating to DATA_USAGE_RATE has remained the same basically!\n",
        "  Conclusion: very successful. Moving on to next part.\n",
        "'''"
      ]
    },
    {
      "cell_type": "code",
      "execution_count": null,
      "metadata": {
        "id": "NxPEdPAqdCAE"
      },
      "outputs": [],
      "source": [
        "df.isnull().sum()"
      ]
    },
    {
      "cell_type": "code",
      "execution_count": null,
      "metadata": {
        "id": "HTSZK3Bzg6Lv"
      },
      "outputs": [],
      "source": [
        "# Filling original tst before continuing\n",
        "tst = df.copy()\n",
        "tst = tst.drop(['DEACTIVE_DATE', 'POS_MSISDN'], axis = 1)\n",
        "tst['DATA_USAGE_TIER'] = tst['DATA_USAGE_TIER'].fillna(tst['STATUS'].map(data_usage_fill))\n",
        "tst['DATA_USAGE_TIER'].isnull().sum()"
      ]
    },
    {
      "cell_type": "code",
      "execution_count": null,
      "metadata": {
        "id": "UHQahLAJ9Kq_"
      },
      "outputs": [],
      "source": [
        "tst['DATA_USAGE_TIER'].value_counts()"
      ]
    },
    {
      "cell_type": "code",
      "execution_count": null,
      "metadata": {
        "id": "dOEg_-q9N8_k"
      },
      "outputs": [],
      "source": [
        "tst.isnull().sum()"
      ]
    },
    {
      "cell_type": "code",
      "execution_count": null,
      "metadata": {
        "id": "W1lALEXANaJd"
      },
      "outputs": [],
      "source": [
        "tst.isnull().sum()"
      ]
    },
    {
      "cell_type": "code",
      "execution_count": null,
      "metadata": {
        "id": "HtuTgpimh81f"
      },
      "outputs": [],
      "source": [
        "tst = tst.dropna()"
      ]
    },
    {
      "cell_type": "code",
      "execution_count": null,
      "metadata": {
        "id": "ibKukbKAihP-"
      },
      "outputs": [],
      "source": [
        "# Label Encoding - preparing for heatmap\n",
        "for c in cols:\n",
        "  tst[c] = lbl.fit_transform(tst[c])\n",
        "tst"
      ]
    },
    {
      "cell_type": "code",
      "execution_count": null,
      "metadata": {
        "id": "p-_DNrMZgQXy"
      },
      "outputs": [],
      "source": [
        "# NEXT: TENURE_CATEGORY\n",
        "\n",
        "# Libraries for heatmap\n",
        "import seaborn as sns\n",
        "import matplotlib.pyplot as plt\n",
        "\n",
        "# Correlation\n",
        "corr = tst.corr()\n",
        "\n",
        "# Plotting\n",
        "plt.figure(figsize = (20, 15))\n",
        "sns.heatmap(corr, annot = True, linewidth = 2)\n",
        "  # linewidth just breaks apart the squares.\n",
        "plt.show()"
      ]
    },
    {
      "cell_type": "code",
      "execution_count": null,
      "metadata": {
        "id": "QCrjxkXOgY42"
      },
      "outputs": [],
      "source": [
        "df.isnull().sum()"
      ]
    },
    {
      "cell_type": "code",
      "execution_count": null,
      "metadata": {
        "id": "RBxSjVk5i3mK"
      },
      "outputs": [],
      "source": [
        "# Observation: Highest relation with TENURE_CATEGORY\n",
        "\n",
        "''' 1. CUSTOMER_TENURE = ** 0.91 **\n",
        "2. DATA_USAGE_TIER = 0.71\n",
        "3. CHURN_FLAG = 0.67\n",
        "4. STATUS = -0.66\n",
        "5. ACTIVE_DATE = -0.61 '''"
      ]
    },
    {
      "cell_type": "code",
      "execution_count": null,
      "metadata": {
        "id": "oSTSu5IU_gt1"
      },
      "outputs": [],
      "source": [
        "tst3 = df.copy()\n",
        "tst3 = tst3.drop(['DEACTIVE_DATE', 'POS_MSISDN'], axis = 1)\n",
        "tst3['DATA_USAGE_TIER'] = tst3['DATA_USAGE_TIER'].fillna(tst['STATUS'].map(data_usage_fill))\n",
        "tst3['DATA_USAGE_TIER'].isnull().sum()"
      ]
    },
    {
      "cell_type": "code",
      "execution_count": null,
      "metadata": {
        "id": "YllhE7lF_pT5"
      },
      "outputs": [],
      "source": [
        "tst3['DATA_USAGE_TIER'].value_counts()"
      ]
    },
    {
      "cell_type": "code",
      "execution_count": null,
      "metadata": {
        "id": "Rk1diGZkj2Xx"
      },
      "outputs": [],
      "source": [
        "tst3.isnull().sum()"
      ]
    },
    {
      "cell_type": "code",
      "execution_count": null,
      "metadata": {
        "id": "M4vkl-1skejt"
      },
      "outputs": [],
      "source": [
        "# From stackoverflow: to see all rows.\n",
        "pd.set_option('display.max_rows', None)"
      ]
    },
    {
      "cell_type": "code",
      "execution_count": null,
      "metadata": {
        "id": "xYMCWwqYjbfz"
      },
      "outputs": [],
      "source": [
        "data_usage_groupby = tst3.groupby(['DATA_USAGE_TIER', 'TENURE_CATEGORY'])\n",
        "data_usage_groupby['TENURE_CATEGORY'].count()\n",
        "\n",
        "# Observation: Medium > Short-term"
      ]
    },
    {
      "cell_type": "code",
      "execution_count": null,
      "metadata": {
        "id": "xvPmpwzIj5AK"
      },
      "outputs": [],
      "source": [
        "data_usage_groupby = tst3.groupby(['CHURN_FLAG', 'TENURE_CATEGORY'])\n",
        "data_usage_groupby['TENURE_CATEGORY'].count()\n",
        "\n",
        "# Observation: 1 > Short_term"
      ]
    },
    {
      "cell_type": "code",
      "execution_count": null,
      "metadata": {
        "id": "ReelPqbCBnD2"
      },
      "outputs": [],
      "source": [
        "data_usage_groupby = tst3.groupby(['CHURN_FLAG', 'CUSTOMER_TENURE','TENURE_CATEGORY'])\n",
        "data_usage_groupby['TENURE_CATEGORY'].count()"
      ]
    },
    {
      "cell_type": "code",
      "execution_count": null,
      "metadata": {
        "id": "yXtGWFYukLxO"
      },
      "outputs": [],
      "source": [
        "data_usage_groupby = tst3.groupby(['ACTIVE_DATE', 'TENURE_CATEGORY'])\n",
        "data_usage_groupby['TENURE_CATEGORY'].count()\n",
        "\n",
        "# Observation: 2023-08-01 to 2023-09-03 > Long-term\n",
        "# 2023-09-4 to 2023-10-04 > Medium-term\n",
        "# 2023-10-05 to 2023-10-31 > Short-term"
      ]
    },
    {
      "cell_type": "code",
      "execution_count": null,
      "metadata": {
        "id": "AyvSKrIdkXH0"
      },
      "outputs": [],
      "source": [
        "data_usage_groupby = tst3.groupby(['CUSTOMER_TENURE', 'TENURE_CATEGORY'])\n",
        "data_usage_groupby['TENURE_CATEGORY'].count()\n",
        "\n",
        "# Observation: 0 to 88 > Short-term\n",
        "# 89 to 119 > Medium-term\n",
        "# 120 to 153 > Long-term"
      ]
    },
    {
      "cell_type": "code",
      "execution_count": null,
      "metadata": {
        "id": "YwnR-ibVlc6W"
      },
      "outputs": [],
      "source": [
        "data_usage_groupby = tst3.groupby(['STATUS', 'TENURE_CATEGORY'])\n",
        "data_usage_groupby['TENURE_CATEGORY'].count()\n",
        "\n",
        "# Observation: Deactive > Short-term"
      ]
    },
    {
      "cell_type": "code",
      "execution_count": null,
      "metadata": {
        "id": "sfyAvBY_CrXN"
      },
      "outputs": [],
      "source": [
        "data_usage_groupby = tst3.groupby(['DATA_USAGE_TIER', 'TENURE_CATEGORY'])\n",
        "data_usage_groupby['TENURE_CATEGORY'].count()"
      ]
    },
    {
      "cell_type": "code",
      "execution_count": null,
      "metadata": {
        "id": "OAsubw9Wl850"
      },
      "outputs": [],
      "source": [
        "data_usage_groupby = tst3.groupby(['CUSTOMER_TENURE', 'CHURN_FLAG', 'DATA_USAGE_TIER', 'ACTIVE_DATE', 'TENURE_CATEGORY'])\n",
        "data_usage_groupby['TENURE_CATEGORY'].count()"
      ]
    },
    {
      "cell_type": "code",
      "execution_count": null,
      "metadata": {
        "id": "biRkpzwLyLua"
      },
      "outputs": [],
      "source": [
        "'''\n",
        "Observation for above\n",
        "\n",
        "CUSTOMER_TENURE strongest relation\n",
        "1 to 89 = short term\n",
        "90 - 120 = medium term\n",
        "121 and up = long term\n",
        "'''"
      ]
    },
    {
      "cell_type": "code",
      "execution_count": null,
      "metadata": {
        "id": "XTr2jrMr-dDc"
      },
      "outputs": [],
      "source": [
        "def tenure_from_date(date):\n",
        "  if date == '2023-09-13':\n",
        "    return 'Short-term'\n",
        "\n",
        "def tenure_from_churn(churn):\n",
        "  if churn == 1:\n",
        "    return 'Short-term'\n",
        "\n",
        "def tenure_from_data(data):\n",
        "  if data == 'Deactive':\n",
        "    return 'Short-term'\n",
        "\n",
        "# Creating fn to apply for filling\n",
        "\n",
        "def tenure_from_customer(cust):\n",
        "  if 89 >= cust >= 1:\n",
        "      return 'Short-term'\n",
        "  elif 120 >= cust >= 90:\n",
        "      return 'Medium-term'\n",
        "  else:\n",
        "    return 'Long-term'"
      ]
    },
    {
      "cell_type": "code",
      "execution_count": null,
      "metadata": {
        "id": "SfS7iY1BEewq"
      },
      "outputs": [],
      "source": [
        "tst3['TENURE_CATEGORY'] = tst3['TENURE_CATEGORY'].fillna(tst3['ACTIVE_DATE'].apply(tenure_from_date))\n",
        "tst3['TENURE_CATEGORY'].value_counts()\n",
        "df['TENURE_CATEGORY'].value_counts()"
      ]
    },
    {
      "cell_type": "code",
      "execution_count": null,
      "metadata": {
        "id": "vJIkJ5t05wqD"
      },
      "outputs": [],
      "source": [
        "tst3['TENURE_CATEGORY'] = tst3['TENURE_CATEGORY'].fillna(tst3['CHURN_FLAG'].apply(tenure_from_churn))\n",
        "tst3['TENURE_CATEGORY'].value_counts()"
      ]
    },
    {
      "cell_type": "code",
      "execution_count": null,
      "metadata": {
        "id": "CO6Ee54L941a"
      },
      "outputs": [],
      "source": [
        "tst3['TENURE_CATEGORY'] = tst3['TENURE_CATEGORY'].fillna(tst3['DATA_USAGE_TIER'].apply(tenure_from_data))\n",
        "tst3['TENURE_CATEGORY'].value_counts()"
      ]
    },
    {
      "cell_type": "code",
      "execution_count": null,
      "metadata": {
        "id": "TsZfC4iV96Nz"
      },
      "outputs": [],
      "source": [
        "tst3['TENURE_CATEGORY'] = tst3['TENURE_CATEGORY'].fillna(tst3['CUSTOMER_TENURE'].apply(tenure_from_customer))\n",
        "tst3['TENURE_CATEGORY'].value_counts()"
      ]
    },
    {
      "cell_type": "code",
      "execution_count": null,
      "metadata": {
        "id": "r1PFPNG_nsSY"
      },
      "outputs": [],
      "source": [
        "# Testing null values\n",
        "tst3['TENURE_CATEGORY'].isnull().sum()"
      ]
    },
    {
      "cell_type": "code",
      "execution_count": null,
      "metadata": {
        "id": "-HBK76iiAyzq"
      },
      "outputs": [],
      "source": [
        "tst3['TENURE_CATEGORY'].value_counts()"
      ]
    },
    {
      "cell_type": "code",
      "execution_count": null,
      "metadata": {
        "id": "v6PzRG3Mo5uO"
      },
      "outputs": [],
      "source": [
        "# Returning it to default\n",
        "pd.set_option('display.max_rows', 20)\n",
        "\n",
        "# Making sure CUSTOMER_TENURE is as is\n",
        "tst3['CUSTOMER_TENURE'].value_counts()"
      ]
    },
    {
      "cell_type": "code",
      "execution_count": null,
      "metadata": {
        "id": "irhC0G4GpGt3"
      },
      "outputs": [],
      "source": [
        "# Testing all nulls\n",
        "tst3.isnull().sum()"
      ]
    },
    {
      "cell_type": "code",
      "execution_count": null,
      "metadata": {
        "id": "lg74e44-pipU"
      },
      "outputs": [],
      "source": [
        "# Dropping null values to create heatmap\n",
        "tst3 = tst3.dropna()"
      ]
    },
    {
      "cell_type": "code",
      "execution_count": null,
      "metadata": {
        "id": "WFhZ6YbIps0h"
      },
      "outputs": [],
      "source": [
        "# Label Encoding - preparing for heatmap\n",
        "for c in cols:\n",
        "  tst3[c] = lbl.fit_transform(tst3[c])\n",
        "\n",
        "# Libraries for heatmap\n",
        "import seaborn as sns\n",
        "import matplotlib.pyplot as plt\n",
        "\n",
        "# Correlation\n",
        "corr = tst3.corr()\n",
        "\n",
        "# Plotting\n",
        "plt.figure(figsize = (20, 15))\n",
        "sns.heatmap(corr, annot = True, linewidth = 2)\n",
        "  # linewidth just breaks apart the squares.\n",
        "plt.show()"
      ]
    },
    {
      "cell_type": "code",
      "execution_count": null,
      "metadata": {
        "id": "yisRsv3Wp2fx"
      },
      "outputs": [],
      "source": [
        "# filling into tst\n",
        "tst = df.copy()\n",
        "tst = tst.drop(['POS_MSISDN', 'DEACTIVE_DATE'], axis = 1)\n",
        "\n",
        "tst['DATA_USAGE_TIER'] = tst['DATA_USAGE_TIER'].fillna(tst['STATUS'].map(data_usage_fill))\n",
        "tst['DATA_USAGE_TIER'].isnull().sum()\n",
        "\n",
        "tst['TENURE_CATEGORY'] = tst['TENURE_CATEGORY'].fillna(tst['ACTIVE_DATE'].apply(tenure_from_date))\n",
        "tst['TENURE_CATEGORY'] = tst['TENURE_CATEGORY'].fillna(tst['CHURN_FLAG'].apply(tenure_from_churn))\n",
        "tst['TENURE_CATEGORY'] = tst['TENURE_CATEGORY'].fillna(tst['DATA_USAGE_TIER'].apply(tenure_from_data))\n",
        "tst['TENURE_CATEGORY'] = tst['TENURE_CATEGORY'].fillna(tst['CUSTOMER_TENURE'].apply(tenure_from_customer))"
      ]
    },
    {
      "cell_type": "code",
      "execution_count": null,
      "metadata": {
        "id": "FwgiQsR1fRl8"
      },
      "outputs": [],
      "source": [
        "tst4 = tst.copy()"
      ]
    },
    {
      "cell_type": "code",
      "execution_count": null,
      "metadata": {
        "id": "Cd7rcV4sf2Gn"
      },
      "outputs": [],
      "source": [
        "tst = tst.dropna()\n",
        "tst.isnull().sum()"
      ]
    },
    {
      "cell_type": "code",
      "execution_count": null,
      "metadata": {
        "id": "fTPZe_zXspV2"
      },
      "outputs": [],
      "source": [
        "# NEXT: USER_CREATED_BY\n",
        "for c in cols:\n",
        "  tst[c] = lbl.fit_transform(tst[c])\n",
        "tst\n",
        "\n",
        "# Libraries for heatmap\n",
        "import seaborn as sns\n",
        "import matplotlib.pyplot as plt\n",
        "\n",
        "# Correlation\n",
        "corr = tst.corr()\n",
        "\n",
        "# Plotting\n",
        "plt.figure(figsize = (20, 15))\n",
        "sns.heatmap(corr, annot = True, linewidth = 2)\n",
        "  # linewidth just breaks apart the squares.\n",
        "plt.show()"
      ]
    },
    {
      "cell_type": "code",
      "execution_count": null,
      "metadata": {
        "id": "2POKNJOJs1Su"
      },
      "outputs": [],
      "source": [
        "tst4.isnull().sum()"
      ]
    },
    {
      "cell_type": "code",
      "execution_count": null,
      "metadata": {
        "id": "p5o9gsS2tKFk"
      },
      "outputs": [],
      "source": [
        "# SEGMENT1 = -0.5\n",
        "# CUSTOMER_TENURE, TENURE_CATEGORY = -0.39\n",
        "# CHURN_FLAG = 0.38\n",
        "# DATA_USAGE_TIER = 0.41"
      ]
    },
    {
      "cell_type": "code",
      "execution_count": null,
      "metadata": {
        "id": "pWLZsgPxgEZo"
      },
      "outputs": [],
      "source": [
        "pd.set_option('display.max_rows', None)"
      ]
    },
    {
      "cell_type": "code",
      "execution_count": null,
      "metadata": {
        "id": "LrRoc1DAtGSp"
      },
      "outputs": [],
      "source": [
        "user_groupby = tst4.groupby(['SEGMENT1', 'USER_CREATED_BY'])\n",
        "user_groupby['USER_CREATED_BY'].count()\n",
        "\n",
        "# Observation: Prepaid > BJNN1810"
      ]
    },
    {
      "cell_type": "code",
      "execution_count": null,
      "metadata": {
        "id": "p2UnFp73t-EK"
      },
      "outputs": [],
      "source": [
        "user_groupby = tst4.groupby(['DATA_USAGE_TIER', 'USER_CREATED_BY'])\n",
        "user_groupby['USER_CREATED_BY'].count()\n",
        "\n",
        "# Observation: Low > BJNN1810"
      ]
    },
    {
      "cell_type": "code",
      "execution_count": null,
      "metadata": {
        "id": "uU-UFecZu_QN"
      },
      "outputs": [],
      "source": [
        "user_groupby = tst4.groupby(['CHURN_FLAG', 'USER_CREATED_BY'])\n",
        "user_groupby['USER_CREATED_BY'].count()\n",
        "\n",
        "# Observation: 0 > BJNN1810"
      ]
    },
    {
      "cell_type": "code",
      "execution_count": null,
      "metadata": {
        "id": "xI8Kx6LZvRnO"
      },
      "outputs": [],
      "source": [
        "user_groupby = tst4.groupby(['CUSTOMER_TENURE', 'USER_CREATED_BY'])\n",
        "user_groupby['USER_CREATED_BY'].count()\n",
        "\n",
        "# Observation: 0 > BJNN1810"
      ]
    },
    {
      "cell_type": "code",
      "execution_count": null,
      "metadata": {
        "id": "ZC0D-zqZvnul"
      },
      "outputs": [],
      "source": [
        "tst4.isnull().sum()"
      ]
    },
    {
      "cell_type": "code",
      "execution_count": null,
      "metadata": {
        "id": "S80vaNeW4Ns4"
      },
      "outputs": [],
      "source": [
        "import numpy as np\n",
        "null_user_customer = tst4.loc[tst4['USER_CREATED_BY'].isnull(), 'CUSTOMER_TENURE'].unique()\n",
        "null_user_customer = np.sort(null_user_customer)\n",
        "null_user_customer"
      ]
    },
    {
      "cell_type": "code",
      "execution_count": null,
      "metadata": {
        "id": "Le77YUYM4WWG"
      },
      "outputs": [],
      "source": [
        "customer_filtered = tst4[tst4['CUSTOMER_TENURE'].isin(null_user_customer)].groupby(['CUSTOMER_TENURE', 'USER_CREATED_BY'])\n",
        "customer_filtered['USER_CREATED_BY'].count()\n",
        "\n",
        "# Observations on Notepad"
      ]
    },
    {
      "cell_type": "code",
      "execution_count": null,
      "metadata": {
        "id": "jEUOxiVgEmoX"
      },
      "outputs": [],
      "source": [
        "user_groupby = tst4.groupby(['TENURE_CATEGORY', 'USER_CREATED_BY'])\n",
        "user_groupby['USER_CREATED_BY'].count()\n",
        "\n",
        "# same as above, = 1"
      ]
    },
    {
      "cell_type": "code",
      "execution_count": null,
      "metadata": {
        "id": "mHOb7banEvI8"
      },
      "outputs": [],
      "source": [
        "user_from_segment = {'Postpaid': 'BJNN1810'}\n",
        "user_from_data = {'Low': 'BJNN1810'}\n",
        "user_from_churn = {0: 'BJNN1810'}"
      ]
    },
    {
      "cell_type": "code",
      "execution_count": null,
      "metadata": {
        "id": "GPkcoh25GLdq"
      },
      "outputs": [],
      "source": [
        "def user_from_tenure(tenure):\n",
        "  if tenure == 0:\n",
        "    return 'DDDB1714'\n",
        "  elif 1 <= tenure <= 3:\n",
        "    return 'RBTB1909'\n",
        "  elif tenure == 5:\n",
        "    return 'TTP.PH.BZB.BLZBHHB'\n",
        "  elif tenure == 20:\n",
        "    return 'TBBZ1911'\n",
        "  elif tenure == 63 or tenure == 69:\n",
        "    return 'DPNB1876'\n",
        "  elif 64 <= tenure <= 68 or 70 <= tenure <= 117:\n",
        "    return 'BJNN1810'\n",
        "  elif 119 <= tenure <= 120:\n",
        "    return 'TBBZ1911'\n",
        "  elif 123 <= tenure <= 153:\n",
        "    return 'BJNN1810'"
      ]
    },
    {
      "cell_type": "code",
      "execution_count": null,
      "metadata": {
        "id": "Dyeha9MBGjlS"
      },
      "outputs": [],
      "source": [
        "tst4['USER_CREATED_BY'] = tst4['USER_CREATED_BY'].fillna(tst4['DATA_USAGE_TIER'].map(user_from_data))\n",
        "tst4['USER_CREATED_BY'].value_counts()"
      ]
    },
    {
      "cell_type": "code",
      "execution_count": null,
      "metadata": {
        "id": "acnT3VMowihh"
      },
      "outputs": [],
      "source": [
        "tst4['USER_CREATED_BY'] = tst4['USER_CREATED_BY'].fillna(tst4['CUSTOMER_TENURE'].apply(user_from_tenure))\n",
        "tst4['USER_CREATED_BY'].value_counts()"
      ]
    },
    {
      "cell_type": "code",
      "execution_count": null,
      "metadata": {
        "id": "HuLpdjv1B7Z3"
      },
      "outputs": [],
      "source": [
        "tst4['USER_CREATED_BY'] = tst4['USER_CREATED_BY'].fillna(tst4['SEGMENT1'].map(user_from_segment))\n",
        "tst4['USER_CREATED_BY'].value_counts()"
      ]
    },
    {
      "cell_type": "code",
      "execution_count": null,
      "metadata": {
        "id": "HoSPvHNUCCc7"
      },
      "outputs": [],
      "source": [
        "tst4['USER_CREATED_BY'] = tst4['USER_CREATED_BY'].fillna(tst4['CHURN_FLAG'].map(user_from_churn))\n",
        "tst4['USER_CREATED_BY'].value_counts()"
      ]
    },
    {
      "cell_type": "code",
      "execution_count": null,
      "metadata": {
        "id": "nHH_QTDxIS7F"
      },
      "outputs": [],
      "source": [
        "tst4['USER_CREATED_BY'].isnull().sum()"
      ]
    },
    {
      "cell_type": "code",
      "execution_count": null,
      "metadata": {
        "id": "C32ceEDRpDAX"
      },
      "outputs": [],
      "source": [
        "tst4['USER_CREATED_BY'].value_counts()"
      ]
    },
    {
      "cell_type": "code",
      "execution_count": null,
      "metadata": {
        "id": "4vtclxoX_gHW"
      },
      "outputs": [],
      "source": [
        "tst4.isnull().sum()"
      ]
    },
    {
      "cell_type": "code",
      "execution_count": null,
      "metadata": {
        "id": "MlCAOJUg_ivZ"
      },
      "outputs": [],
      "source": [
        "tst4 = tst4.dropna()"
      ]
    },
    {
      "cell_type": "code",
      "execution_count": null,
      "metadata": {
        "id": "VpTIpQly_vua"
      },
      "outputs": [],
      "source": [
        "# NEXT: USER_CREATED_BY\n",
        "for c in cols:\n",
        "  tst4[c] = lbl.fit_transform(tst4[c])\n",
        "\n",
        "# Libraries for heatmap\n",
        "import seaborn as sns\n",
        "import matplotlib.pyplot as plt\n",
        "\n",
        "# Correlation\n",
        "corr = tst4.corr()\n",
        "\n",
        "# Plotting\n",
        "plt.figure(figsize = (20, 15))\n",
        "sns.heatmap(corr, annot = True, linewidth = 2)\n",
        "  # linewidth just breaks apart the squares.\n",
        "plt.show()"
      ]
    },
    {
      "cell_type": "code",
      "execution_count": null,
      "metadata": {
        "id": "jFaie5mJnOnJ"
      },
      "outputs": [],
      "source": [
        "# filling into tst\n",
        "tst = df.copy()\n",
        "tst = tst.drop(['POS_MSISDN', 'DEACTIVE_DATE'], axis = 1)\n",
        "\n",
        "tst['DATA_USAGE_TIER'] = tst['DATA_USAGE_TIER'].fillna(tst['STATUS'].map(data_usage_fill))\n",
        "tst['DATA_USAGE_TIER'].isnull().sum()\n",
        "\n",
        "tst['TENURE_CATEGORY'] = tst['TENURE_CATEGORY'].fillna(tst['ACTIVE_DATE'].apply(tenure_from_date))\n",
        "tst['TENURE_CATEGORY'] = tst['TENURE_CATEGORY'].fillna(tst['CHURN_FLAG'].apply(tenure_from_churn))\n",
        "tst['TENURE_CATEGORY'] = tst['TENURE_CATEGORY'].fillna(tst['DATA_USAGE_TIER'].apply(tenure_from_data))\n",
        "tst['TENURE_CATEGORY'] = tst['TENURE_CATEGORY'].fillna(tst['CUSTOMER_TENURE'].apply(tenure_from_customer))\n",
        "\n",
        "tst['USER_CREATED_BY'] = tst['USER_CREATED_BY'].fillna(tst['DATA_USAGE_TIER'].map(user_from_data))\n",
        "tst['USER_CREATED_BY'] = tst['USER_CREATED_BY'].fillna(tst['CUSTOMER_TENURE'].apply(user_from_tenure))\n",
        "tst['USER_CREATED_BY'] = tst['USER_CREATED_BY'].fillna(tst['SEGMENT1'].map(user_from_segment))\n",
        "tst['USER_CREATED_BY'] = tst['USER_CREATED_BY'].fillna(tst['CHURN_FLAG'].map(user_from_churn))"
      ]
    },
    {
      "cell_type": "code",
      "execution_count": null,
      "metadata": {
        "id": "c0_Ba69pnYKZ"
      },
      "outputs": [],
      "source": [
        "tst.isnull().sum()"
      ]
    },
    {
      "cell_type": "code",
      "execution_count": null,
      "metadata": {
        "id": "n-9qXY2TnZ3j"
      },
      "outputs": [],
      "source": [
        "tst5 = tst.copy()"
      ]
    },
    {
      "cell_type": "code",
      "execution_count": null,
      "metadata": {
        "id": "iKJZFn3fnnaK"
      },
      "outputs": [],
      "source": [
        "# SOLVING STATUS REASON\n",
        "''' USER_CREATED_BY = -0.15\n",
        "CUSTOMER_TENURE, TENURE_CATEGORY, STATUS = 0.13\n",
        "SEGMENT1 = 0.11\n",
        "SEGMENT2 = 0.1\n",
        "CHURN_FLAG = -0.15\n",
        "DATA_USAGE_TIER = -0.16 '''"
      ]
    },
    {
      "cell_type": "code",
      "execution_count": null,
      "metadata": {
        "id": "p-1Af6SHo4IF"
      },
      "outputs": [],
      "source": [
        "tst5['USER_CREATED_BY'].value_counts()"
      ]
    },
    {
      "cell_type": "code",
      "execution_count": null,
      "metadata": {
        "id": "36asZ-D7oQw5"
      },
      "outputs": [],
      "source": [
        "status_reason_groupby = tst5.groupby(['USER_CREATED_BY', 'STATUS_REASON'])\n",
        "status_reason_groupby['STATUS_REASON'].count()\n",
        "\n",
        "# same as above, = 1"
      ]
    },
    {
      "cell_type": "code",
      "execution_count": null,
      "metadata": {
        "id": "dsamHRMpo00E"
      },
      "outputs": [],
      "source": [
        "null_status_user = tst5.loc[tst5['STATUS_REASON'].isnull(), 'USER_CREATED_BY'].unique()\n",
        "null_status_user = np.sort(null_status_user)\n",
        "null_status_user"
      ]
    },
    {
      "cell_type": "code",
      "execution_count": null,
      "metadata": {
        "id": "Ln_-mrjoFiZS"
      },
      "outputs": [],
      "source": [
        "tst5['STATUS_REASON'].value_counts()"
      ]
    },
    {
      "cell_type": "code",
      "execution_count": null,
      "metadata": {
        "id": "ef5ehaAyEx7e"
      },
      "outputs": [],
      "source": [
        "user_filtered = tst5[tst5['USER_CREATED_BY'].isin(null_status_user)].groupby(['USER_CREATED_BY', 'STATUS_REASON'])\n",
        "user_filtered['STATUS_REASON'].count()\n",
        "\n",
        "# Disocveries in Notepad"
      ]
    },
    {
      "cell_type": "code",
      "execution_count": null,
      "metadata": {
        "id": "V2EykU1eE0nm"
      },
      "outputs": [],
      "source": [
        "'''\n",
        "DPNB1876               Better Offer Elsewhere     361\n",
        "                       Billing Issues             347\n",
        "                       Contract Ended             351\n",
        "                       Lack of Usage              363\n",
        "                       Moved                      342\n",
        "                       Network Issues             389\n",
        "                       Personal Reasons           348\n",
        "                       Price                      359\n",
        "                       Service Quality            337\n",
        "                       Technical Difficulties     331\n",
        "\n",
        "BJNN1810               Customer Request          1160\n",
        "                       Document Verification     1199\n",
        "                       Fraudulent Activity       1385\n",
        "                       Illegal Usage             1379\n",
        "                       Non-payment               1364\n",
        "                       Service Upgrade           1204\n",
        "                       Technical Issue           1200\n",
        "                       Violation of Terms        1398\n",
        "'''"
      ]
    },
    {
      "cell_type": "code",
      "execution_count": null,
      "metadata": {
        "id": "Ts30ZcIZG64d"
      },
      "outputs": [],
      "source": [
        "status_reason_groupby = tst5.groupby(['CUSTOMER_TENURE', 'STATUS_REASON'])\n",
        "status_reason_groupby['STATUS_REASON'].count()\n",
        "\n",
        "# nothing stood out, scrapped."
      ]
    },
    {
      "cell_type": "code",
      "execution_count": null,
      "metadata": {
        "id": "0qldvWGUHGjW"
      },
      "outputs": [],
      "source": [
        "status_reason_groupby = tst5.groupby(['TENURE_CATEGORY', 'STATUS_REASON'])\n",
        "status_reason_groupby['STATUS_REASON'].count()\n",
        "\n",
        "# numbers too close, scrapped."
      ]
    },
    {
      "cell_type": "code",
      "execution_count": null,
      "metadata": {
        "id": "KjCwaRAuHS3G"
      },
      "outputs": [],
      "source": [
        "status_reason_groupby = tst5.groupby(['SEGMENT1', 'STATUS_REASON'])\n",
        "status_reason_groupby['STATUS_REASON'].count()"
      ]
    },
    {
      "cell_type": "code",
      "execution_count": null,
      "metadata": {
        "id": "rkNN4ry9HigL"
      },
      "outputs": [],
      "source": [
        "'''\n",
        "Prepaid   Customer Request          1220\n",
        "          Document Verification     1246\n",
        "          Fraudulent Activity       1411\n",
        "          Illegal Usage             1412\n",
        "          Non-payment               1396\n",
        "          Service Upgrade           1252\n",
        "          Technical Issue           1239\n",
        "          Violation of Terms        1433\n",
        "'''"
      ]
    },
    {
      "cell_type": "code",
      "execution_count": null,
      "metadata": {
        "id": "xURtF7fXHZlT"
      },
      "outputs": [],
      "source": [
        "status_reason_groupby = tst5.groupby(['SEGMENT2', 'STATUS_REASON'])\n",
        "status_reason_groupby['STATUS_REASON'].count()"
      ]
    },
    {
      "cell_type": "code",
      "execution_count": null,
      "metadata": {
        "id": "aJJ6woUdH9sC"
      },
      "outputs": [],
      "source": [
        "'''\n",
        "Residential\n",
        "             Customer Request          1004\n",
        "             Document Verification     1042\n",
        "             Fraudulent Activity       1375\n",
        "             Illegal Usage             1355\n",
        "             Non-payment               1372\n",
        "             Service Upgrade           1053\n",
        "             Technical Issue           1026\n",
        "             Violation of Terms        1404\n",
        "'''\n",
        "\n",
        "# these stood out, others too close."
      ]
    },
    {
      "cell_type": "code",
      "execution_count": null,
      "metadata": {
        "id": "V7aQpAj4IhzF"
      },
      "outputs": [],
      "source": [
        "status_reason_groupby = tst5.groupby(['CHURN_FLAG', 'STATUS_REASON'])\n",
        "status_reason_groupby['STATUS_REASON'].count()"
      ]
    },
    {
      "cell_type": "code",
      "execution_count": null,
      "metadata": {
        "id": "I7dZS31TIjno"
      },
      "outputs": [],
      "source": [
        "'''\n",
        "1 >\n",
        "  Better Offer, Billing Issue, Contract Ended,\n",
        "  Lack of Usage, Moved, Network Issues,\n",
        "  Personal Reasons, Price, Service Quality,\n",
        "  Technical Difficulties,\n",
        "\n",
        "\n",
        "0 >\n",
        "  Customer Request, Document, Fraudulent, Illegal Usage,\n",
        "  Non Payment,\n",
        "  Service Upgrade,\n",
        "  Technical Issue, Violation of Terms\n",
        "'''"
      ]
    },
    {
      "cell_type": "code",
      "execution_count": null,
      "metadata": {
        "id": "qAaWSKlhJb52"
      },
      "outputs": [],
      "source": [
        "status_reason_groupby = tst5.groupby(['DATA_USAGE_TIER', 'STATUS_REASON'])\n",
        "status_reason_groupby['STATUS_REASON'].count()"
      ]
    },
    {
      "cell_type": "code",
      "execution_count": null,
      "metadata": {
        "id": "Qb-h01w4JhDk"
      },
      "outputs": [],
      "source": [
        "'''\n",
        "Low >\n",
        "  Customer Request, Document, Fraudulent, Illegal, Non Payment,\n",
        "  Service Upgrade, Technical Issue, Violation\n",
        "\n",
        "Medium >\n",
        "  Better Offer, Billing, Contract Ended, Lack, Moved,\n",
        "  Netowork Issue, Personal Reasons, Price\n",
        "  Service Quality, Technical Difficulties\n",
        "'''"
      ]
    },
    {
      "cell_type": "code",
      "execution_count": null,
      "metadata": {
        "id": "VTcLBRjfKI0v"
      },
      "outputs": [],
      "source": [
        "status_reason_groupby = tst5.groupby(['USER_CREATED_BY', 'CUSTOMER_TENURE',\n",
        "                                      'TENURE_CATEGORY', 'SEGMENT1',\n",
        "                                      'SEGMENT2', 'CHURN_FLAG',\n",
        "                                      'DATA_USAGE_TIER', 'STATUS_REASON'])\n",
        "status_reason_groupby['STATUS_REASON'].count()"
      ]
    },
    {
      "cell_type": "code",
      "execution_count": null,
      "metadata": {
        "id": "ps0VCIG0RSAz"
      },
      "outputs": [],
      "source": [
        "tst5['STATUS_REASON'].value_counts()"
      ]
    },
    {
      "cell_type": "code",
      "execution_count": null,
      "metadata": {
        "id": "MlB9EXjgWbAN"
      },
      "outputs": [],
      "source": [
        "tst5.info()"
      ]
    },
    {
      "cell_type": "code",
      "execution_count": null,
      "metadata": {
        "id": "K5RTbOYRQ0XT"
      },
      "outputs": [],
      "source": [
        "status_reason_groupby = tst5.groupby(['USER_CREATED_BY', 'SEGMENT1',\n",
        "                                      'SEGMENT2', 'CHURN_FLAG',\n",
        "                                      'DATA_USAGE_TIER',\n",
        "                                      'TENURE_CATEGORY', 'CUSTOMER_TENURE', 'ACTIVE_DATE',\n",
        "                                      'STATUS_REASON'])\n",
        "\n",
        "filtered_status = status_reason_groupby.filter(lambda s: 'Violation of Terms' in s['STATUS_REASON'].values)\n",
        "status_reason_groupby = filtered_status.groupby(['USER_CREATED_BY', 'SEGMENT1',\n",
        "                                      'SEGMENT2', 'CHURN_FLAG',\n",
        "                                      'DATA_USAGE_TIER',\n",
        "                                      'TENURE_CATEGORY', 'CUSTOMER_TENURE', 'ACTIVE_DATE',\n",
        "                                      'STATUS_REASON'])\n",
        "status_reason_groupby['STATUS_REASON'].count()\n",
        "\n",
        "# BJNN1810 > Prepaid > Resedential > 0 > Low > Violation of Terms"
      ]
    },
    {
      "cell_type": "code",
      "execution_count": null,
      "metadata": {
        "id": "MUzzTka-RiWm"
      },
      "outputs": [],
      "source": [
        "status_reason_groupby = tst5.groupby(['USER_CREATED_BY', 'SEGMENT1',\n",
        "                                      'SEGMENT2', 'CHURN_FLAG',\n",
        "                                      'DATA_USAGE_TIER',\n",
        "                                      'TENURE_CATEGORY', 'CUSTOMER_TENURE',\n",
        "                                      'STATUS_REASON'])\n",
        "\n",
        "'''filtered_status = status_reason_groupby.filter(lambda s: 'Fraudulent Activity' in s['STATUS_REASON'].values)\n",
        "status_reason_groupby = filtered_status.groupby(['USER_CREATED_BY', 'SEGMENT1',\n",
        "                                      'SEGMENT2', 'CHURN_FLAG',\n",
        "                                      'DATA_USAGE_TIER',\n",
        "                                      'TENURE_CATEGORY', 'CUSTOMER_TENURE',\n",
        "                                      'STATUS_REASON'])'''\n",
        "status_reason_groupby['STATUS_REASON'].count()\n",
        "\n",
        "# BJNN1810 > Prepaid > Resedential > 0 > Low > Violation of Terms"
      ]
    },
    {
      "cell_type": "code",
      "execution_count": null,
      "metadata": {
        "id": "RcSUK44YSUw1"
      },
      "outputs": [],
      "source": [
        "status_reason_groupby = tst5.groupby(['USER_CREATED_BY', 'SEGMENT1',\n",
        "                                      'SEGMENT2', 'CHURN_FLAG',\n",
        "                                      'CUSTOMER_TENURE', 'TENURE_CATEGORY',\n",
        "                                      'DATA_USAGE_TIER', 'STATUS_REASON'])\n",
        "\n",
        "#filtered_status = status_reason_groupby.filter(lambda s: 'Illegal Usage' in s['STATUS_REASON'].values)\n",
        "'''status_reason_groupby = filtered_status.groupby(['USER_CREATED_BY', 'SEGMENT1',\n",
        "                                      'SEGMENT2', 'CHURN_FLAG',\n",
        "                                      'CUSTOMER_TENURE', 'TENURE_CATEGORY',\n",
        "                                      'DATA_USAGE_TIER', 'STATUS_REASON'])'''\n",
        "status_reason_groupby['STATUS_REASON'].count()"
      ]
    },
    {
      "cell_type": "code",
      "execution_count": null,
      "metadata": {
        "id": "fWuancfFhWVd"
      },
      "outputs": [],
      "source": [
        "tst5.isnull().sum()"
      ]
    },
    {
      "cell_type": "code",
      "execution_count": null,
      "metadata": {
        "id": "7vJVxntxY-DH"
      },
      "outputs": [],
      "source": [
        "tst5.info()"
      ]
    },
    {
      "cell_type": "code",
      "execution_count": null,
      "metadata": {
        "id": "lzPrFEkiYT9X"
      },
      "outputs": [],
      "source": [
        "status_reason_groupby = tst5.groupby(['USER_CREATED_BY', 'STATUS_REASON'])\n",
        "status_reason_groupby['STATUS_REASON'].count().sort_values()"
      ]
    },
    {
      "cell_type": "code",
      "execution_count": null,
      "metadata": {
        "id": "OQuXW2UqZt3v"
      },
      "outputs": [],
      "source": [
        "status_reason_groupby = tst5.groupby(['DISTRIBUTER', 'STATUS_REASON'])\n",
        "status_reason_groupby['STATUS_REASON'].count().sort_values()"
      ]
    },
    {
      "cell_type": "code",
      "execution_count": null,
      "metadata": {
        "id": "_aXS17lGY81t"
      },
      "outputs": [],
      "source": [
        "status_reason_groupby = tst5.groupby(['DISTRIBUTER', 'USER_CREATED_BY', 'DATA_USAGE_TIER', 'CHURN_FLAG', 'LOYALTY_POINTS',\n",
        "                                      'SEGMENT1', 'SEGMENT2', 'CUSTOMER_TENURE', 'TENURE_CATEGORY', 'STATUS_REASON'])\n",
        "status_reason_groupby['STATUS_REASON'].count().sort_values()"
      ]
    },
    {
      "cell_type": "code",
      "execution_count": null,
      "metadata": {
        "id": "me655y18bE7X"
      },
      "outputs": [],
      "source": [
        "status_reason_groupby = tst5.groupby(['USER_CREATED_BY', 'STATUS_REASON'])\n",
        "status_reason_groupby['USER_CREATED_BY'].count()"
      ]
    },
    {
      "cell_type": "code",
      "execution_count": null,
      "metadata": {
        "id": "8gtqIhL5c1eB"
      },
      "outputs": [],
      "source": [
        "filtered_user_reason = tst5[(tst5['STATUS_REASON'] == 'Violation of Terms') & (tst5['USER_CREATED_BY'] == 'BJNN1810')]\n",
        "filtered_user_reason['CHURN_FLAG'].value_counts()"
      ]
    },
    {
      "cell_type": "code",
      "execution_count": null,
      "metadata": {
        "id": "T6CWKUCAkDyu"
      },
      "outputs": [],
      "source": [
        "filtered_user_reason = tst5[(tst5['STATUS_REASON'] == 'Customer Request') & (tst5['USER_CREATED_BY'] == 'BJNN1810')]\n",
        "filtered_user_reason['CHURN_FLAG'].value_counts()"
      ]
    },
    {
      "cell_type": "code",
      "execution_count": null,
      "metadata": {
        "id": "Eu-MErFykWl0"
      },
      "outputs": [],
      "source": [
        "filtered_user_reason = tst5[(tst5['CHURN_FLAG'] == 0) & (tst5['USER_CREATED_BY'] == 'BJNN1810')]\n",
        "filtered_user_reason['STATUS_REASON'].value_counts()"
      ]
    },
    {
      "cell_type": "code",
      "execution_count": null,
      "metadata": {
        "id": "njC2fC3HjrC1"
      },
      "outputs": [],
      "source": [
        "filtered_user_reason = tst5[(tst5['STATUS_REASON'].notnull()) & (tst5['USER_CREATED_BY'] == 'BJNN1810')]\n",
        "filtered_user_reason['CHURN_FLAG'].value_counts()"
      ]
    },
    {
      "cell_type": "code",
      "execution_count": null,
      "metadata": {
        "id": "vdir57C0hzYC"
      },
      "outputs": [],
      "source": [
        "'''\n",
        "DPNB1876               Better Offer Elsewhere     361\n",
        "                       Billing Issues             347\n",
        "                       Contract Ended             351\n",
        "                       Lack of Usage              363\n",
        "                       Moved                      342\n",
        "                       Network Issues             389\n",
        "                       Personal Reasons           348\n",
        "                       Price                      359\n",
        "                       Service Quality            337\n",
        "                       Technical Difficulties     331\n",
        "\n",
        "BJNN1810               Customer Request          1160\n",
        "                       Document Verification     1199\n",
        "                       Fraudulent Activity       1385\n",
        "                       Illegal Usage             1379\n",
        "                       Non-payment               1364\n",
        "                       Service Upgrade           1204\n",
        "                       Technical Issue           1200\n",
        "                       Violation of Terms        1398\n",
        "'''"
      ]
    },
    {
      "cell_type": "code",
      "execution_count": null,
      "metadata": {
        "id": "HgAOnpjkkn5u"
      },
      "outputs": [],
      "source": [
        "''' reason_from_user = {'BJNN1810': 'Violation of Terms',\n",
        "                    'DPNB1876': 'Network Issues'}\n",
        "\n",
        "tst5['STATUS_REASON'] = tst5['STATUS_REASON'].fillna(tst5['USER_CREATED_BY'].map(reason_from_user))\n",
        "tst5['STATUS_REASON'].isnull().sum() '''"
      ]
    },
    {
      "cell_type": "code",
      "execution_count": null,
      "metadata": {
        "id": "my0C_9vBlGGM"
      },
      "outputs": [],
      "source": [
        "filtered_user_reason = tst5[(tst5['STATUS_REASON'].notnull()) & ((tst5['USER_CREATED_BY'] != 'DPNB1876') & (tst5['USER_CREATED_BY'] != 'BJNN1810'))]\n",
        "filtered_user_reason['STATUS_REASON'].value_counts()"
      ]
    },
    {
      "cell_type": "code",
      "execution_count": null,
      "metadata": {
        "id": "k4G5axrVlblX"
      },
      "outputs": [],
      "source": [
        "filtered_user_reason = tst5[(tst5['STATUS_REASON'].notnull()) & ((tst5['USER_CREATED_BY'] != 'DPNB1876') & (tst5['USER_CREATED_BY'] != 'BJNN1810'))]\n",
        "filtered_user_reason['STATUS_REASON'].value_counts()"
      ]
    },
    {
      "cell_type": "code",
      "execution_count": null,
      "metadata": {
        "id": "eWXD4_gNAxk3"
      },
      "outputs": [],
      "source": [
        "# I'll just use random choice from this\n",
        "'''\n",
        "DPNB1876               Better Offer Elsewhere     361\n",
        "                       Billing Issues             347\n",
        "                       Contract Ended             351\n",
        "                       Lack of Usage              363\n",
        "                       Moved                      342\n",
        "                       Network Issues             389\n",
        "                       Personal Reasons           348\n",
        "                       Price                      359\n",
        "                       Service Quality            337\n",
        "                       Technical Difficulties     331\n",
        "\n",
        "BJNN1810               Customer Request          1160\n",
        "                       Document Verification     1199\n",
        "                       Fraudulent Activity       1385\n",
        "                       Illegal Usage             1379\n",
        "                       Non-payment               1364\n",
        "                       Service Upgrade           1204\n",
        "                       Technical Issue           1200\n",
        "                       Violation of Terms        1398\n",
        "\n",
        "RBTB1909               Better Offer Elsewhere      31\n",
        "                       Billing Issues              23\n",
        "                       Contract Ended              31\n",
        "                       Lack of Usage               32\n",
        "                       Moved                       22\n",
        "                       Network Issues              39\n",
        "                       Personal Reasons            25\n",
        "                       Price                       32\n",
        "                       Service Quality             25\n",
        "                       Technical Difficulties      32\n",
        "\n",
        "TTP.PNBR.BLTHBLHBNBF\n",
        "                       Billing Issues              15\n",
        "                       Contract Ended              10\n",
        "                       Lack of Usage                7\n",
        "                       Moved                        8\n",
        "                       Network Issues              12\n",
        "                       Personal Reasons            16\n",
        "                       Price                       10\n",
        "                       Service Quality             10\n",
        "                       Technical Difficulties      12\n",
        "'''"
      ]
    },
    {
      "cell_type": "code",
      "execution_count": null,
      "metadata": {
        "id": "eB224E7-t-ul"
      },
      "outputs": [],
      "source": [
        "import random as rd\n",
        "\n",
        "def reason_from_user(user):\n",
        "  if user == 'DPNB1876':\n",
        "    return rd.choice(['Better Offer Elsewhere',\n",
        "                      'Billing Issues',\n",
        "                      'Contract Ended',\n",
        "                      'Lack of Usage',\n",
        "                      'Moved',\n",
        "                      'Network Issues',\n",
        "                      'Personal Reasons',\n",
        "                      'Price',\n",
        "                      'Service Quality',\n",
        "                      'Technical Difficulties'])\n",
        "\n",
        "  elif user == 'BJNN1810':\n",
        "    return rd.choice(['Customer Request',\n",
        "                      'Document Verification',\n",
        "                      'Fraudulent Activity',\n",
        "                      'Illegal Usage',\n",
        "                      'Non-payment',\n",
        "                      'Service Upgrade',\n",
        "                      'Technical Issue',\n",
        "                      'Violation of Terms'])\n",
        "\n",
        "  elif user == 'RBTB1909':\n",
        "    return rd.choice(['Better Offer Elsewhere',\n",
        "                      'Billing Issues',\n",
        "                      'Contract Ended',\n",
        "                      'Lack of Usage',\n",
        "                      'Moved',\n",
        "                      'Network Issues',\n",
        "                      'Personal Reasons',\n",
        "                      'Price',\n",
        "                      'Service Quality',\n",
        "                      'Technical Difficulties'])\n",
        "\n",
        "  elif user == 'TTP.PNBR.BLTHBLHBNBF':\n",
        "    return rd.choice(['Billing Issues',\n",
        "                      'Contract Ended',\n",
        "                      'Lack of Usage',\n",
        "                      'Moved',\n",
        "                      'Network Issues',\n",
        "                      'Personal Reasons',\n",
        "                      'Price',\n",
        "                      'Service Quality',\n",
        "                      'Technical Difficulties'])\n",
        "\n",
        "  else:\n",
        "    status_values = tst5['STATUS_REASON'].unique()\n",
        "    return rd.choice(status_values)"
      ]
    },
    {
      "cell_type": "code",
      "execution_count": null,
      "metadata": {
        "id": "435WWYeWvBCY"
      },
      "outputs": [],
      "source": [
        "tst5['STATUS_REASON'] = tst5['STATUS_REASON'].fillna(tst5['USER_CREATED_BY'].apply(reason_from_user))\n",
        "tst5['STATUS_REASON'].isnull().sum()\n",
        "  # i had to run it ~ 4 times till all the nulls were gone."
      ]
    },
    {
      "cell_type": "code",
      "execution_count": null,
      "metadata": {
        "id": "1QvL_Udl0IjV"
      },
      "outputs": [],
      "source": [
        "tst5['STATUS_REASON'] = tst5['STATUS_REASON'].fillna(tst5['USER_CREATED_BY'].apply(reason_from_user))\n",
        "tst5['STATUS_REASON'].isnull().sum()\n",
        "  # run 2."
      ]
    },
    {
      "cell_type": "code",
      "execution_count": null,
      "metadata": {
        "id": "QCeUeplZ0KC_"
      },
      "outputs": [],
      "source": [
        "tst5['STATUS_REASON'] = tst5['STATUS_REASON'].fillna(tst5['USER_CREATED_BY'].apply(reason_from_user))\n",
        "tst5['STATUS_REASON'].isnull().sum()\n",
        "  # run 3."
      ]
    },
    {
      "cell_type": "code",
      "execution_count": null,
      "metadata": {
        "id": "6-NWZPgW0LTH"
      },
      "outputs": [],
      "source": [
        "tst5['STATUS_REASON'] = tst5['STATUS_REASON'].fillna(tst5['USER_CREATED_BY'].apply(reason_from_user))\n",
        "tst5['STATUS_REASON'].isnull().sum()\n",
        "  # run 4."
      ]
    },
    {
      "cell_type": "code",
      "execution_count": null,
      "metadata": {
        "id": "XFvUSO1E0M6W"
      },
      "outputs": [],
      "source": [
        "tst5['STATUS_REASON'] = tst5['STATUS_REASON'].fillna(tst5['USER_CREATED_BY'].apply(reason_from_user))\n",
        "tst5['STATUS_REASON'].isnull().sum()\n",
        "  # run 5 for extra measures in case."
      ]
    },
    {
      "cell_type": "code",
      "execution_count": null,
      "metadata": {
        "id": "e2On-1y7yLcf"
      },
      "outputs": [],
      "source": [
        "tst5['STATUS_REASON'].value_counts()\n",
        "  # making sure the values are correct"
      ]
    },
    {
      "cell_type": "code",
      "execution_count": null,
      "metadata": {
        "id": "LCLyRf-Z0g5o"
      },
      "outputs": [],
      "source": [
        "tst5.isnull().sum()"
      ]
    },
    {
      "cell_type": "code",
      "execution_count": null,
      "metadata": {
        "id": "sPCFRuY8zezx"
      },
      "outputs": [],
      "source": [
        "# Label Encoding - preparing for heatmap\n",
        "tst5 = tst5.dropna()\n",
        "\n",
        "for c in cols:\n",
        "  tst5[c] = lbl.fit_transform(tst5[c])\n",
        "\n",
        "# Libraries for heatmap\n",
        "import seaborn as sns\n",
        "import matplotlib.pyplot as plt\n",
        "\n",
        "# Correlation\n",
        "corr = tst5.corr()\n",
        "\n",
        "# Plotting\n",
        "plt.figure(figsize = (20, 15))\n",
        "sns.heatmap(corr, annot = True, linewidth = 2)\n",
        "  # linewidth just breaks apart the squares.\n",
        "plt.show()"
      ]
    },
    {
      "cell_type": "code",
      "execution_count": null,
      "metadata": {
        "id": "uYw_xZQl0bAg"
      },
      "outputs": [],
      "source": [
        "tst.isnull().sum()"
      ]
    },
    {
      "cell_type": "code",
      "execution_count": null,
      "metadata": {
        "id": "qTQHaHgWgWip"
      },
      "outputs": [],
      "source": [
        "import random as rd\n",
        "\n",
        "def reason_from_user(user):\n",
        "  if user == 'DPNB1876':\n",
        "    return rd.choice(['Better Offer Elsewhere',\n",
        "                      'Billing Issues',\n",
        "                      'Contract Ended',\n",
        "                      'Lack of Usage',\n",
        "                      'Moved',\n",
        "                      'Network Issues',\n",
        "                      'Personal Reasons',\n",
        "                      'Price',\n",
        "                      'Service Quality',\n",
        "                      'Technical Difficulties'])\n",
        "\n",
        "  elif user == 'BJNN1810':\n",
        "    return rd.choice(['Customer Request',\n",
        "                      'Document Verification',\n",
        "                      'Fraudulent Activity',\n",
        "                      'Illegal Usage',\n",
        "                      'Non-payment',\n",
        "                      'Service Upgrade',\n",
        "                      'Technical Issue',\n",
        "                      'Violation of Terms'])\n",
        "\n",
        "  elif user == 'RBTB1909':\n",
        "    return rd.choice(['Better Offer Elsewhere',\n",
        "                      'Billing Issues',\n",
        "                      'Contract Ended',\n",
        "                      'Lack of Usage',\n",
        "                      'Moved',\n",
        "                      'Network Issues',\n",
        "                      'Personal Reasons',\n",
        "                      'Price',\n",
        "                      'Service Quality',\n",
        "                      'Technical Difficulties'])\n",
        "\n",
        "  elif user == 'TTP.PNBR.BLTHBLHBNBF':\n",
        "    return rd.choice(['Billing Issues',\n",
        "                      'Contract Ended',\n",
        "                      'Lack of Usage',\n",
        "                      'Moved',\n",
        "                      'Network Issues',\n",
        "                      'Personal Reasons',\n",
        "                      'Price',\n",
        "                      'Service Quality',\n",
        "                      'Technical Difficulties'])\n",
        "\n",
        "  else:\n",
        "    status_values = tst['STATUS_REASON'].unique()\n",
        "    return rd.choice(status_values)"
      ]
    },
    {
      "cell_type": "code",
      "execution_count": null,
      "metadata": {
        "id": "s-trRcHWLuGa"
      },
      "outputs": [],
      "source": [
        "# filling tst.\n",
        "tst['STATUS_REASON'] = tst['STATUS_REASON'].fillna(tst['USER_CREATED_BY'].apply(reason_from_user))\n",
        "tst['STATUS_REASON'].isnull().sum()"
      ]
    },
    {
      "cell_type": "code",
      "execution_count": null,
      "metadata": {
        "id": "R0jFPoB3g_S0"
      },
      "outputs": [],
      "source": [
        "tst['STATUS_REASON'] = tst['STATUS_REASON'].fillna(tst['USER_CREATED_BY'].apply(reason_from_user))\n",
        "tst['STATUS_REASON'].isnull().sum()\n",
        "  # again."
      ]
    },
    {
      "cell_type": "code",
      "execution_count": null,
      "metadata": {
        "id": "bZ4665gqhEnp"
      },
      "outputs": [],
      "source": [
        "tst['STATUS_REASON'] = tst['STATUS_REASON'].fillna(tst['USER_CREATED_BY'].apply(reason_from_user))\n",
        "tst['STATUS_REASON'].isnull().sum()"
      ]
    },
    {
      "cell_type": "code",
      "execution_count": null,
      "metadata": {
        "id": "3cR4fXW9gD5m"
      },
      "outputs": [],
      "source": [
        "tst['STATUS_REASON'].value_counts()"
      ]
    },
    {
      "cell_type": "code",
      "execution_count": null,
      "metadata": {
        "id": "yQMYSXh8L3A1"
      },
      "outputs": [],
      "source": [
        "tst.isnull().sum()"
      ]
    },
    {
      "cell_type": "code",
      "execution_count": null,
      "metadata": {
        "id": "TgO7ct0bL7-G"
      },
      "outputs": [],
      "source": [
        "tst6 = tst.copy()"
      ]
    },
    {
      "cell_type": "code",
      "execution_count": null,
      "metadata": {
        "id": "zDphbz4jc-wC"
      },
      "outputs": [],
      "source": [
        "tst6['DISTRIBUTER'].info()"
      ]
    },
    {
      "cell_type": "code",
      "execution_count": null,
      "metadata": {
        "id": "-AT9nbqPMABe"
      },
      "outputs": [],
      "source": [
        "# DISTRIBUTER\n",
        "\n",
        "# MSISDN = 0.2\n",
        "# ACTIVE_DATE = 0.12\n",
        "# SEGMENT 1 = 0.12\n",
        "# SEGMENT2 = 0.15"
      ]
    },
    {
      "cell_type": "code",
      "execution_count": null,
      "metadata": {
        "id": "a63POwz1MGgl"
      },
      "outputs": [],
      "source": [
        "distributer_groupby = tst6.groupby(['ACTIVE_DATE', 'DISTRIBUTER'])\n",
        "distributer_groupby['DISTRIBUTER'].count()"
      ]
    },
    {
      "cell_type": "code",
      "execution_count": null,
      "metadata": {
        "id": "c1VIk6yQR-wr"
      },
      "outputs": [],
      "source": [
        "null_dist_date = tst6.loc[tst6['DISTRIBUTER'].isnull(), 'ACTIVE_DATE'].unique()\n",
        "null_dist_date = np.sort(null_dist_date)\n",
        "null_dist_date"
      ]
    },
    {
      "cell_type": "code",
      "execution_count": null,
      "metadata": {
        "id": "AdssLUUESjL_"
      },
      "outputs": [],
      "source": [
        "dist_filtered = tst6[tst6['ACTIVE_DATE'].isin(null_dist_date)].groupby(['ACTIVE_DATE', 'DISTRIBUTER'])\n",
        "dist_filtered['DISTRIBUTER'].count()\n",
        "\n",
        "# 2023-10-26    JNTFRNBL DFPBRTNFNTT                                        1687\n",
        "\n",
        "# 2023-09-13    FNTFRPRJTF TBLFT TTPDL                                      2476"
      ]
    },
    {
      "cell_type": "code",
      "execution_count": null,
      "metadata": {
        "id": "5WTCoPrySscY"
      },
      "outputs": [],
      "source": [
        "null_dist_seg1 = tst6.loc[tst6['DISTRIBUTER'].isnull(), 'SEGMENT1'].unique()\n",
        "null_dist_seg1 = np.sort(null_dist_seg1)\n",
        "seg1_filtered = tst6[tst6['SEGMENT1'].isin(null_dist_seg1)].groupby(['SEGMENT1', 'DISTRIBUTER'])\n",
        "seg1_filtered['DISTRIBUTER'].count()\n",
        "\n",
        "'''\n",
        "Postpaid: FNTFRPRJTF TBLFT TTPDL (5527)\n",
        "\n",
        "Prepaid: BL-NVTBTBXFRB BL-LB NVTBNBHFZB (LJNJTLFTT JNTFRNBTJPNBL) (1957),\n",
        "         BLBBTHFR FPR TRBDF BND DJTTRJBVTJPN (2626), HPLDFN NBRL (2500), JNTFRNBL DFPBRTNFNTT (JNTFRNBL DFPBRTNFNTT)\n",
        "'''"
      ]
    },
    {
      "cell_type": "code",
      "execution_count": null,
      "metadata": {
        "id": "lT8MuelGVYPB"
      },
      "outputs": [],
      "source": [
        "null_dist_seg2 = tst6.loc[tst6['DISTRIBUTER'].isnull(), 'SEGMENT2'].unique()\n",
        "null_dist_seg2 = np.sort(null_dist_seg2)\n",
        "seg2_filtered = tst6[tst6['SEGMENT2'].isin(null_dist_seg2)].groupby(['SEGMENT2', 'DISTRIBUTER'])\n",
        "seg2_filtered['DISTRIBUTER'].count()\n",
        "\n",
        "'''\n",
        "Corporate:    FNTFRPRJTF TBLFT TTPDL                                      6227\n",
        "\n",
        "Residential:  HPLDFN NBRL                                                 2500\n",
        "              BLBBTHFR FPR TRBDF BND DJTTRJBVTJPN                         2624\n",
        "'''"
      ]
    },
    {
      "cell_type": "code",
      "execution_count": null,
      "metadata": {
        "id": "knEf4itdYuh2"
      },
      "outputs": [],
      "source": [
        "null_dist_msisdn = tst6.loc[tst6['DISTRIBUTER'].isnull(), 'MSISDN'].unique()\n",
        "null_dist_msisdn = np.sort(null_dist_msisdn)\n",
        "msisdn_filtered = tst6[tst6['MSISDN'].isin(null_dist_msisdn)].groupby(['MSISDN', 'DISTRIBUTER'])\n",
        "msisdn_filtered['DISTRIBUTER'].count()"
      ]
    },
    {
      "cell_type": "code",
      "execution_count": null,
      "metadata": {
        "id": "yzJWG188ZH1W"
      },
      "outputs": [],
      "source": [
        "null_dist_msisdn"
      ]
    },
    {
      "cell_type": "code",
      "execution_count": null,
      "metadata": {
        "id": "e3nW2c7UdV-7"
      },
      "outputs": [],
      "source": [
        "tst6['DISTRIBUTER'].info()"
      ]
    },
    {
      "cell_type": "code",
      "execution_count": null,
      "metadata": {
        "id": "eP4febjfWMRa"
      },
      "outputs": [],
      "source": [
        "def dist_from_date(date):\n",
        "  if date == '2023-10-26':\n",
        "    return 'JNTFRNBL DFPBRTNFNTT'\n",
        "  elif date == '2023-09-13':\n",
        "    return 'FNTFRPRJTF TBLFT TTPDL'\n",
        "\n",
        "def dist_from_seg1(seg1):\n",
        "  if seg1 == 'Postpaid':\n",
        "    return 'FNTFRPRJTF TBLFT TTPDL'\n",
        "  elif seg1 == 'Prepaid':\n",
        "    return rd.choice(['BL-NVTBTBXFRB BL-LB NVTBNBHFZB (LJNJTLFTT JNTFRNBTJPNBL)',\n",
        "                      'BLBBTHFR FPR TRBDF BND DJTTRJBVTJPN',\n",
        "                      'HPLDFN NBRL',\n",
        "                      'JNTFRNBL DFPBRTNFNTT'])\n",
        "\n",
        "def dist_from_seg2(seg2):\n",
        "  if seg2 == 'Corporate':\n",
        "    return 'FNTFRPRJTF TBLFT TTPDL'\n",
        "  elif seg2 == 'Residential':\n",
        "    return rd.choice(['HPLDFN NBRL',\n",
        "                      'BLBBTHFR FPR TRBDF BND DJTTRJBVTJPN'])"
      ]
    },
    {
      "cell_type": "code",
      "execution_count": null,
      "metadata": {
        "id": "ES73XDZaYlQf"
      },
      "outputs": [],
      "source": [
        "tst6['DISTRIBUTER'] = tst6['DISTRIBUTER'].fillna(tst6['ACTIVE_DATE'].apply(dist_from_date))\n",
        "tst6['DISTRIBUTER'].isnull().sum()"
      ]
    },
    {
      "cell_type": "code",
      "execution_count": null,
      "metadata": {
        "id": "TOvtKd2fdc2y"
      },
      "outputs": [],
      "source": [
        "tst6['DISTRIBUTER'].info()"
      ]
    },
    {
      "cell_type": "code",
      "execution_count": null,
      "metadata": {
        "id": "GE3OR3CcbUm5"
      },
      "outputs": [],
      "source": [
        "tst6['DISTRIBUTER'] = tst6['DISTRIBUTER'].fillna(tst6['SEGMENT2'].apply(dist_from_seg2))\n",
        "tst6['DISTRIBUTER'].isnull().sum()"
      ]
    },
    {
      "cell_type": "code",
      "execution_count": null,
      "metadata": {
        "id": "RWm0jPkedgqO"
      },
      "outputs": [],
      "source": [
        "tst6['DISTRIBUTER'].info()"
      ]
    },
    {
      "cell_type": "code",
      "execution_count": null,
      "metadata": {
        "id": "3FY5LWRbbcxC"
      },
      "outputs": [],
      "source": [
        "tst6['DISTRIBUTER'] = tst6['DISTRIBUTER'].fillna(tst6['SEGMENT1'].apply(dist_from_seg1))\n",
        "tst6['DISTRIBUTER'].isnull().sum()"
      ]
    },
    {
      "cell_type": "code",
      "execution_count": null,
      "metadata": {
        "id": "rqqvZXk0dim2"
      },
      "outputs": [],
      "source": [
        "tst6['DISTRIBUTER'].info()"
      ]
    },
    {
      "cell_type": "code",
      "execution_count": null,
      "metadata": {
        "id": "-bCjvDFzcBJT"
      },
      "outputs": [],
      "source": [
        "tst6['DISTRIBUTER'].value_counts()"
      ]
    },
    {
      "cell_type": "code",
      "execution_count": null,
      "metadata": {
        "id": "-nDfwCSScDww"
      },
      "outputs": [],
      "source": [
        "# Label Encoding - preparing for heatmap\n",
        "tst6 = tst6.dropna()\n",
        "\n",
        "for c in cols:\n",
        "  if tst6[c].dtype == 'object':\n",
        "    tst6[c] = lbl.fit_transform(tst6[c])\n",
        "\n",
        "# Libraries for heatmap\n",
        "import seaborn as sns\n",
        "import matplotlib.pyplot as plt\n",
        "\n",
        "# Correlation\n",
        "corr = tst6.corr()\n",
        "\n",
        "# Plotting\n",
        "plt.figure(figsize = (20, 15))\n",
        "sns.heatmap(corr, annot = True, linewidth = 2)\n",
        "  # linewidth just breaks apart the squares.\n",
        "plt.show()"
      ]
    },
    {
      "cell_type": "code",
      "execution_count": null,
      "metadata": {
        "id": "kG1zb_4uhw9i"
      },
      "outputs": [],
      "source": [
        "tst = df.copy()\n",
        "tst.isnull().sum()"
      ]
    },
    {
      "cell_type": "code",
      "execution_count": null,
      "metadata": {
        "id": "J0dNwjmri_gE"
      },
      "outputs": [],
      "source": [
        "tst['DATA_USAGE_TIER'] = tst['DATA_USAGE_TIER'].fillna(tst['STATUS'].map(data_usage_fill))\n",
        "tst['DATA_USAGE_TIER'].isnull().sum()"
      ]
    },
    {
      "cell_type": "code",
      "execution_count": null,
      "metadata": {
        "id": "xfTbyUKojKvH"
      },
      "outputs": [],
      "source": [
        "tst['DATA_USAGE_TIER'].value_counts()"
      ]
    },
    {
      "cell_type": "code",
      "execution_count": null,
      "metadata": {
        "id": "aYVBZcuriyT1"
      },
      "outputs": [],
      "source": [
        "tst['TENURE_CATEGORY'] = tst['TENURE_CATEGORY'].fillna(tst['ACTIVE_DATE'].apply(tenure_from_date))\n",
        "tst['TENURE_CATEGORY'] = tst['TENURE_CATEGORY'].fillna(tst['CHURN_FLAG'].apply(tenure_from_churn))\n",
        "tst['TENURE_CATEGORY'] = tst['TENURE_CATEGORY'].fillna(tst['DATA_USAGE_TIER'].apply(tenure_from_data))\n",
        "tst['TENURE_CATEGORY'] = tst['TENURE_CATEGORY'].fillna(tst['CUSTOMER_TENURE'].apply(tenure_from_customer))\n",
        "tst['TENURE_CATEGORY'].isnull().sum()"
      ]
    },
    {
      "cell_type": "code",
      "execution_count": null,
      "metadata": {
        "id": "nl_1yCwtjQmH"
      },
      "outputs": [],
      "source": [
        "tst['TENURE_CATEGORY'].value_counts()"
      ]
    },
    {
      "cell_type": "code",
      "execution_count": null,
      "metadata": {
        "id": "Ab5us4Qoi0Kp"
      },
      "outputs": [],
      "source": [
        "tst['USER_CREATED_BY'] = tst['USER_CREATED_BY'].fillna(tst['DATA_USAGE_TIER'].map(user_from_data))\n",
        "tst['USER_CREATED_BY'] = tst['USER_CREATED_BY'].fillna(tst['CUSTOMER_TENURE'].apply(user_from_tenure))\n",
        "tst['USER_CREATED_BY'] = tst['USER_CREATED_BY'].fillna(tst['SEGMENT1'].map(user_from_segment))\n",
        "tst['USER_CREATED_BY'] = tst['USER_CREATED_BY'].fillna(tst['CHURN_FLAG'].map(user_from_churn))\n",
        "tst['USER_CREATED_BY'].isnull().sum()"
      ]
    },
    {
      "cell_type": "code",
      "execution_count": null,
      "metadata": {
        "id": "_gh7jfREjUXG"
      },
      "outputs": [],
      "source": [
        "tst['USER_CREATED_BY'].value_counts()"
      ]
    },
    {
      "cell_type": "code",
      "execution_count": null,
      "metadata": {
        "id": "JOH4j2--i1cI"
      },
      "outputs": [],
      "source": [
        "tst['STATUS_REASON'] = tst['STATUS_REASON'].fillna(tst['USER_CREATED_BY'].apply(reason_from_user))\n",
        "tst['STATUS_REASON'].isnull().sum()"
      ]
    },
    {
      "cell_type": "code",
      "execution_count": null,
      "metadata": {
        "id": "6j02TQq5jjga"
      },
      "outputs": [],
      "source": [
        "tst['STATUS_REASON'] = tst['STATUS_REASON'].fillna(tst['USER_CREATED_BY'].apply(reason_from_user))\n",
        "tst['STATUS_REASON'].isnull().sum()\n",
        "  # at least 3 times, dk why it doesnt get rid of null right away."
      ]
    },
    {
      "cell_type": "code",
      "execution_count": null,
      "metadata": {
        "id": "2M1xc5UWjsT3"
      },
      "outputs": [],
      "source": [
        "tst['STATUS_REASON'] = tst['STATUS_REASON'].fillna(tst['USER_CREATED_BY'].apply(reason_from_user))\n",
        "tst['STATUS_REASON'].isnull().sum()"
      ]
    },
    {
      "cell_type": "code",
      "execution_count": null,
      "metadata": {
        "id": "7eYw_hX8jw8W"
      },
      "outputs": [],
      "source": [
        "tst['STATUS_REASON'] = tst['STATUS_REASON'].fillna(tst['USER_CREATED_BY'].apply(reason_from_user))\n",
        "tst['STATUS_REASON'].isnull().sum()\n",
        "  # last time."
      ]
    },
    {
      "cell_type": "code",
      "execution_count": null,
      "metadata": {
        "id": "zcQSHyeEjhCw"
      },
      "outputs": [],
      "source": [
        "tst['STATUS_REASON'].value_counts()"
      ]
    },
    {
      "cell_type": "code",
      "execution_count": null,
      "metadata": {
        "id": "EgNuA-Qmi5R1"
      },
      "outputs": [],
      "source": [
        "tst['DISTRIBUTER'] = tst['DISTRIBUTER'].fillna(tst['ACTIVE_DATE'].apply(dist_from_date))\n",
        "tst['DISTRIBUTER'] = tst['DISTRIBUTER'].fillna(tst['SEGMENT2'].apply(dist_from_seg2))\n",
        "tst['DISTRIBUTER'] = tst['DISTRIBUTER'].fillna(tst['SEGMENT1'].apply(dist_from_seg1))\n",
        "tst['DISTRIBUTER'].isnull().sum()"
      ]
    },
    {
      "cell_type": "code",
      "execution_count": null,
      "metadata": {
        "id": "09I0-NHIj8Lx"
      },
      "outputs": [],
      "source": [
        "tst['DISTRIBUTER'].value_counts()"
      ]
    },
    {
      "cell_type": "code",
      "execution_count": null,
      "metadata": {
        "id": "nW6lnJFLj-zj"
      },
      "outputs": [],
      "source": [
        "tst.isnull().sum()"
      ]
    },
    {
      "cell_type": "code",
      "execution_count": null,
      "metadata": {
        "id": "HAZ6RBfckCtG"
      },
      "outputs": [],
      "source": [
        "fill_pos = tst.copy()"
      ]
    },
    {
      "cell_type": "code",
      "execution_count": null,
      "metadata": {
        "id": "39sgVYnqkKdf"
      },
      "outputs": [],
      "source": [
        "fill_pos.isnull().sum()"
      ]
    },
    {
      "cell_type": "code",
      "execution_count": null,
      "metadata": {
        "id": "aUV7xlsakeT5"
      },
      "outputs": [],
      "source": [
        "# Label Encoding - preparing for heatmap\n",
        "fill_pos = fill_pos.drop('DEACTIVE_DATE', axis = 1)\n",
        "fill_pos.isnull().sum()"
      ]
    },
    {
      "cell_type": "code",
      "execution_count": null,
      "metadata": {
        "id": "tigMXtCGkuqY"
      },
      "outputs": [],
      "source": [
        "fill_pos = fill_pos.fillna('Unknown')\n",
        "fill_pos.isnull().sum()\n",
        "  # dropping ruins the corelation matrix."
      ]
    },
    {
      "cell_type": "code",
      "execution_count": null,
      "metadata": {
        "id": "XS5lQtKJk0aT"
      },
      "outputs": [],
      "source": [
        "fill_pos['POS_MSISDN'].value_counts()"
      ]
    },
    {
      "cell_type": "code",
      "execution_count": null,
      "metadata": {
        "id": "M_sanGNFlrja"
      },
      "outputs": [],
      "source": [
        "fill_pos.info()"
      ]
    },
    {
      "cell_type": "code",
      "execution_count": null,
      "metadata": {
        "id": "frktT6KukMrm"
      },
      "outputs": [],
      "source": [
        "cols = ['USER_CREATED_BY', 'POS_MSISDN', 'DISTRIBUTER', 'PLAN_NAME',\n",
        "        'ACTIVE_DATE', 'TENURE_CATEGORY', 'STATUS',\n",
        "        'STATUS_REASON', 'SEGMENT1', 'SEGMENT2', 'DATA_USAGE_TIER',\n",
        "        'CUSTOMER_SEGMENT_CHANGE_FLAG']\n",
        "\n",
        "for c in cols:\n",
        "  fill_pos[c] = lbl.fit_transform(fill_pos[c])\n",
        "\n",
        "# Libraries for heatmap\n",
        "import seaborn as sns\n",
        "import matplotlib.pyplot as plt\n",
        "\n",
        "# Correlation\n",
        "corr = fill_pos.corr()\n",
        "\n",
        "# Plotting\n",
        "plt.figure(figsize = (20, 15))\n",
        "sns.heatmap(corr, annot = True, linewidth = 2)\n",
        "  # linewidth just breaks apart the squares.\n",
        "plt.show()"
      ]
    },
    {
      "cell_type": "code",
      "execution_count": null,
      "metadata": {
        "id": "jWjYaizZlIwt"
      },
      "outputs": [],
      "source": [
        "# CO_ID = 0.38\n",
        "# USER_CREATED_BY = 0.39\n",
        "# STATUS = -0.41\n",
        "# SEGMENT1 = -0.5\n",
        "# SEGMENT2 = -0.43"
      ]
    },
    {
      "cell_type": "code",
      "execution_count": null,
      "metadata": {
        "id": "C1o-eV8-m9b1"
      },
      "outputs": [],
      "source": [
        "pos = tst.copy()\n",
        "pos.isnull().sum()"
      ]
    },
    {
      "cell_type": "code",
      "execution_count": null,
      "metadata": {
        "id": "vrkco_eInKnQ"
      },
      "outputs": [],
      "source": [
        "pos = pos.drop('DEACTIVE_DATE', axis = 1)\n",
        "pos.info()"
      ]
    },
    {
      "cell_type": "code",
      "execution_count": null,
      "metadata": {
        "id": "DLAK3vVNn4do"
      },
      "outputs": [],
      "source": [
        "pos.isnull().sum()"
      ]
    },
    {
      "cell_type": "code",
      "execution_count": null,
      "metadata": {
        "id": "EkhUQtAdmqdn"
      },
      "outputs": [],
      "source": [
        "null_pos_user = pos.loc[pos['POS_MSISDN'].isnull(), 'USER_CREATED_BY'].unique()\n",
        "null_pos_user = np.sort(null_pos_user)\n",
        "user_filtered = pos[pos['USER_CREATED_BY'].isin(null_pos_user)].groupby(['USER_CREATED_BY', 'POS_MSISDN'])\n",
        "user_filtered['POS_MSISDN'].count()"
      ]
    },
    {
      "cell_type": "code",
      "execution_count": null,
      "metadata": {
        "id": "MkB6OUBFpzkc"
      },
      "outputs": [],
      "source": [
        "pos.loc[pos['USER_CREATED_BY'] == 'BJNN1810', 'POS_MSISDN'].nunique()"
      ]
    },
    {
      "cell_type": "code",
      "execution_count": null,
      "metadata": {
        "id": "qulouRtYpDLd"
      },
      "outputs": [],
      "source": [
        "pos['POS_MSISDN'].nunique()\n",
        "# so user BJNN1810 has every POS_MSISDN at ~ equal numbers.\n",
        "# use random choice."
      ]
    },
    {
      "cell_type": "code",
      "execution_count": null,
      "metadata": {
        "id": "aaTifDcvpVsf"
      },
      "outputs": [],
      "source": [
        "null_pos_status = pos.loc[pos['POS_MSISDN'].isnull(), 'STATUS'].unique()\n",
        "null_pos_status = np.sort(null_pos_status)\n",
        "status_filtered = pos[pos['STATUS'].isin(null_pos_status)].groupby(['STATUS', 'POS_MSISDN'])\n",
        "status_filtered['POS_MSISDN'].count()"
      ]
    },
    {
      "cell_type": "code",
      "execution_count": null,
      "metadata": {
        "id": "3PdNkRXr57Z-"
      },
      "outputs": [],
      "source": [
        "null_pos_seg1 = pos.loc[pos['POS_MSISDN'].isnull(), 'SEGMENT1'].unique()\n",
        "null_pos_seg1 = np.sort(null_pos_seg1)\n",
        "seg1_filtered = pos[pos['SEGMENT1'].isin(null_pos_seg1)].groupby(['SEGMENT1', 'POS_MSISDN'])\n",
        "seg1_filtered['POS_MSISDN'].count()"
      ]
    },
    {
      "cell_type": "code",
      "execution_count": null,
      "metadata": {
        "id": "G8hh8Iae6Kic"
      },
      "outputs": [],
      "source": [
        "pos.loc[pos['SEGMENT1'] == 'Prepaid', 'POS_MSISDN'].nunique()"
      ]
    },
    {
      "cell_type": "code",
      "execution_count": null,
      "metadata": {
        "id": "XEsURWoW6UnP"
      },
      "outputs": [],
      "source": [
        "null_pos_seg2 = pos.loc[pos['POS_MSISDN'].isnull(), 'SEGMENT2'].unique()\n",
        "null_pos_seg2 = np.sort(null_pos_seg2)\n",
        "seg2_filtered = pos[pos['SEGMENT2'].isin(null_pos_seg2)].groupby(['SEGMENT2', 'POS_MSISDN'])\n",
        "seg2_filtered['POS_MSISDN'].count()"
      ]
    },
    {
      "cell_type": "code",
      "execution_count": null,
      "metadata": {
        "id": "53DTIVFr8vFM"
      },
      "outputs": [],
      "source": [
        "null_pos_msisdn = pos.loc[pos['POS_MSISDN'].isnull(), 'MSISDN'].unique()\n",
        "null_pos_msisdn = np.sort(null_pos_msisdn)\n",
        "msisdn_filtered = pos[pos['MSISDN'].isin(null_pos_msisdn)].groupby(['MSISDN', 'POS_MSISDN'])\n",
        "msisdn_filtered['POS_MSISDN'].count()"
      ]
    },
    {
      "cell_type": "code",
      "execution_count": null,
      "metadata": {
        "id": "Jd_Jq-qL9XeH"
      },
      "outputs": [],
      "source": [
        "null_pos_cust = pos.loc[pos['POS_MSISDN'].isnull(), 'CUSTOMER_TENURE'].unique()\n",
        "null_pos_cust = np.sort(null_pos_cust)\n",
        "cust_filtered = pos[pos['CUSTOMER_TENURE'].isin(null_pos_cust)].groupby(['CUSTOMER_TENURE', 'POS_MSISDN'])\n",
        "cust_filtered['POS_MSISDN'].count()"
      ]
    },
    {
      "cell_type": "code",
      "execution_count": null,
      "metadata": {
        "id": "RGdj91te97Z2"
      },
      "outputs": [],
      "source": [
        "null_pos_tenure = pos.loc[pos['POS_MSISDN'].isnull(), 'TENURE_CATEGORY'].unique()\n",
        "null_pos_tenure = np.sort(null_pos_tenure)\n",
        "tenure_filtered = pos[pos['TENURE_CATEGORY'].isin(null_pos_tenure)].groupby(['TENURE_CATEGORY', 'POS_MSISDN'])\n",
        "tenure_filtered['POS_MSISDN'].count()"
      ]
    },
    {
      "cell_type": "code",
      "execution_count": null,
      "metadata": {
        "id": "3BktHxkA7F1q"
      },
      "outputs": [],
      "source": [
        "# no clear relation\n",
        "pos_values = pos['POS_MSISDN'].unique()\n",
        "pos['POS_MSISDN'] = pos['POS_MSISDN'].fillna(rd.choice(pos_values))\n",
        "pos['POS_MSISDN'].isnull().sum()"
      ]
    },
    {
      "cell_type": "code",
      "execution_count": null,
      "metadata": {
        "id": "gswMzkGe8WrZ"
      },
      "outputs": [],
      "source": [
        "cols = ['USER_CREATED_BY', 'POS_MSISDN', 'DISTRIBUTER', 'PLAN_NAME',\n",
        "        'ACTIVE_DATE', 'TENURE_CATEGORY', 'STATUS',\n",
        "        'STATUS_REASON', 'SEGMENT1', 'SEGMENT2', 'DATA_USAGE_TIER',\n",
        "        'CUSTOMER_SEGMENT_CHANGE_FLAG']\n",
        "\n",
        "for c in cols:\n",
        "  pos[c] = lbl.fit_transform(pos[c])\n",
        "\n",
        "# Libraries for heatmap\n",
        "import seaborn as sns\n",
        "import matplotlib.pyplot as plt\n",
        "\n",
        "# Correlation\n",
        "corr = pos.corr()\n",
        "\n",
        "# Plotting\n",
        "plt.figure(figsize = (20, 15))\n",
        "sns.heatmap(corr, annot = True, linewidth = 2)\n",
        "  # linewidth just breaks apart the squares.\n",
        "plt.show()"
      ]
    },
    {
      "cell_type": "code",
      "execution_count": null,
      "metadata": {
        "id": "o6dMhL5_-nL8"
      },
      "outputs": [],
      "source": [
        "# going back to tst.\n",
        "tst.isnull().sum()"
      ]
    },
    {
      "cell_type": "code",
      "execution_count": null,
      "metadata": {
        "id": "9rPtaKQ5_D01"
      },
      "outputs": [],
      "source": [
        "# no clear relation\n",
        "pos_values = tst['POS_MSISDN'].unique()\n",
        "tst['POS_MSISDN'] = tst['POS_MSISDN'].fillna(rd.choice(pos_values))\n",
        "tst['POS_MSISDN'].isnull().sum()"
      ]
    },
    {
      "cell_type": "code",
      "execution_count": null,
      "metadata": {
        "id": "P2XG8Yfb_IAp"
      },
      "outputs": [],
      "source": [
        "tst.isnull().sum()"
      ]
    },
    {
      "cell_type": "code",
      "execution_count": null,
      "metadata": {
        "id": "sXlJ_z2P_J-n"
      },
      "outputs": [],
      "source": [
        "date = tst.copy()"
      ]
    },
    {
      "cell_type": "code",
      "execution_count": null,
      "metadata": {
        "id": "25OiLqTD_sly"
      },
      "outputs": [],
      "source": [
        "# filling bc dropping ruins matrix\n",
        "date = date.fillna('Unknown')"
      ]
    },
    {
      "cell_type": "code",
      "execution_count": null,
      "metadata": {
        "id": "vJylhZWw_6X2"
      },
      "outputs": [],
      "source": [
        "date.isnull().sum()"
      ]
    },
    {
      "cell_type": "code",
      "execution_count": null,
      "metadata": {
        "id": "RSob53bF_ORe"
      },
      "outputs": [],
      "source": [
        "cols = ['USER_CREATED_BY', 'POS_MSISDN', 'DISTRIBUTER', 'PLAN_NAME',\n",
        "        'ACTIVE_DATE', 'DEACTIVE_DATE', 'TENURE_CATEGORY', 'STATUS',\n",
        "        'STATUS_REASON', 'SEGMENT1', 'SEGMENT2', 'DATA_USAGE_TIER',\n",
        "        'CUSTOMER_SEGMENT_CHANGE_FLAG']\n",
        "\n",
        "for c in cols:\n",
        "  date[c] = lbl.fit_transform(date[c])\n",
        "\n",
        "# Libraries for heatmap\n",
        "import seaborn as sns\n",
        "import matplotlib.pyplot as plt\n",
        "\n",
        "# Correlation\n",
        "corr = date.corr()\n",
        "\n",
        "# Plotting\n",
        "plt.figure(figsize = (20, 15))\n",
        "sns.heatmap(corr, annot = True, linewidth = 2)\n",
        "  # linewidth just breaks apart the squares.\n",
        "plt.show()"
      ]
    },
    {
      "cell_type": "code",
      "execution_count": null,
      "metadata": {
        "id": "3Db_cz-W_aby"
      },
      "outputs": [],
      "source": [
        "date2 = tst.copy()"
      ]
    },
    {
      "cell_type": "code",
      "execution_count": null,
      "metadata": {
        "id": "nOpSgYRoAPvu"
      },
      "outputs": [],
      "source": [
        "date2.isnull().sum()"
      ]
    },
    {
      "cell_type": "code",
      "execution_count": null,
      "metadata": {
        "id": "q_UfyF2lAT2e"
      },
      "outputs": [],
      "source": [
        "# Observations:\n",
        "\n",
        "''' MSISDN = 0.39\n",
        "CUSTOMER_TENURE = 0.73\n",
        "TENURE_CATEGORY = -0.56\n",
        "CHURN_FLAG = -0.87\n",
        "DATA_USAGE_TIER = -0.8 '''"
      ]
    },
    {
      "cell_type": "code",
      "execution_count": null,
      "metadata": {
        "id": "ouA8Z0lEBC27"
      },
      "outputs": [],
      "source": [
        "null_date_msisdn = date2.loc[date2['DEACTIVE_DATE'].isnull(), 'MSISDN'].unique()\n",
        "null_date_msisdn = np.sort(null_date_msisdn)\n",
        "msisdn_filtered = date2[date2['MSISDN'].isin(null_date_msisdn)].groupby(['MSISDN', 'DEACTIVE_DATE'])\n",
        "msisdn_filtered['DEACTIVE_DATE'].count()"
      ]
    },
    {
      "cell_type": "code",
      "execution_count": null,
      "metadata": {
        "id": "bTnw-le9BRbJ"
      },
      "outputs": [],
      "source": [
        "null_date = date2.loc[date2['DEACTIVE_DATE'].isnull(), 'CUSTOMER_TENURE'].unique()\n",
        "null_date = np.sort(null_date)\n",
        "date_filtered = date2[date2['CUSTOMER_TENURE'].isin(null_date)].groupby(['CUSTOMER_TENURE', 'DEACTIVE_DATE'])\n",
        "date_filtered['DEACTIVE_DATE'].count()\n",
        "\n",
        "'''\n",
        "74 >    10/23/2023       17\n",
        "75 >    10/23/2023       10\n",
        "89 >    11/13/2023       14\n",
        "95 >    11/12/2023       46\n",
        "100 >   11/18/2023       67\n",
        "104 >\n",
        "        11/18/2023       30\n",
        "        11/21/2023       30\n",
        "        11/22/2023       30\n",
        "        11/24/2023       29\n",
        "'''"
      ]
    },
    {
      "cell_type": "code",
      "execution_count": null,
      "metadata": {
        "id": "HKVNWbp3BopM"
      },
      "outputs": [],
      "source": [
        "null_date = date2.loc[date2['DEACTIVE_DATE'].isnull(), 'TENURE_CATEGORY'].unique()\n",
        "null_date = np.sort(null_date)\n",
        "date_filtered = date2[date2['TENURE_CATEGORY'].isin(null_date)].groupby(['TENURE_CATEGORY', 'DEACTIVE_DATE'])\n",
        "date_filtered['DEACTIVE_DATE'].count()\n",
        "\n",
        "'''\n",
        "Mid-term > 11/18/2023\n",
        "Short-term > 10/22/2023\n",
        "'''"
      ]
    },
    {
      "cell_type": "code",
      "execution_count": null,
      "metadata": {
        "id": "7MFpYqZtE1eL"
      },
      "outputs": [],
      "source": [
        "null_date = date2.loc[date2['DEACTIVE_DATE'].isnull(), 'CHURN_FLAG'].unique()\n",
        "null_date = np.sort(null_date)\n",
        "date_filtered = date2[date2['CHURN_FLAG'].isin(null_date)].groupby(['CHURN_FLAG', 'DEACTIVE_DATE'])\n",
        "date_filtered['DEACTIVE_DATE'].count()\n",
        "\n",
        "# 0: 10/22/2023\n",
        "# 1: 10/22/2023, 10/30/2023"
      ]
    },
    {
      "cell_type": "code",
      "execution_count": null,
      "metadata": {
        "id": "tGSfHnW2FFsQ"
      },
      "outputs": [],
      "source": [
        "null_date = date2.loc[date2['DEACTIVE_DATE'].isnull(), 'DATA_USAGE_TIER'].unique()\n",
        "null_date = np.sort(null_date)\n",
        "date_filtered = date2[date2['DATA_USAGE_TIER'].isin(null_date)].groupby(['DATA_USAGE_TIER', 'DEACTIVE_DATE'])\n",
        "date_filtered['DEACTIVE_DATE'].count()\n",
        "\n",
        "# Medium: 10/22/2023, 10/30/2023"
      ]
    },
    {
      "cell_type": "code",
      "execution_count": null,
      "metadata": {
        "id": "RwCg_jMhHG_j"
      },
      "outputs": [],
      "source": [
        "null_date = date2.loc[date2['DEACTIVE_DATE'].isnull(), 'SEGMENT1'].unique()\n",
        "null_date = np.sort(null_date)\n",
        "date_filtered = date2[date2['SEGMENT1'].isin(null_date)].groupby(['SEGMENT1', 'DEACTIVE_DATE'])\n",
        "date_filtered['DEACTIVE_DATE'].count()\n",
        "\n",
        "'''\n",
        "Postpaid > 10/22/2023\n",
        "Prepaid > 10/31/2023\n",
        "'''"
      ]
    },
    {
      "cell_type": "code",
      "execution_count": null,
      "metadata": {
        "id": "-4VWVCOGHfIw"
      },
      "outputs": [],
      "source": [
        "null_date = date2.loc[date2['DEACTIVE_DATE'].isnull(), 'SEGMENT2'].unique()\n",
        "null_date = np.sort(null_date)\n",
        "date_filtered = date2[date2['SEGMENT2'].isin(null_date)].groupby(['SEGMENT2', 'DEACTIVE_DATE'])\n",
        "date_filtered['DEACTIVE_DATE'].count()\n",
        "\n",
        "# Corporate: 10/22/2023\n",
        "# PRO: 10/30/2023\n",
        "# Resedential: 9/29/2023, 9/14/2023 8/31/2023, 11/18/2023, 11/14/2023, 10/31/2023, 10/12/2023"
      ]
    },
    {
      "cell_type": "code",
      "execution_count": null,
      "metadata": {
        "id": "XEs3_JOEFVJI"
      },
      "outputs": [],
      "source": [
        "def deactive_from_flag(flag):\n",
        "  if flag == 0:\n",
        "    return '10/22/2023'\n",
        "  else:\n",
        "    rd.choice(['10/22/2023', '10/30/2023'])\n",
        "\n",
        "def deactive_from_data(data):\n",
        "  if data == 'Medium':\n",
        "    rd.choice(['10/22/2023', '10/30/2023'])\n",
        "\n",
        "def deactive_from_tenure(tenure):\n",
        "  if tenure == 'Short-term':\n",
        "    return '10/22/2023'\n",
        "  elif tenure == 'Mid-term':\n",
        "    return '11/18/2023'\n",
        "\n",
        "def deactive_from_customer(customer):\n",
        "  if customer == 74 or customer == 75:\n",
        "    return '10/23/2023'\n",
        "  elif customer == 89:\n",
        "    return '11/13/2023'\n",
        "  elif customer == 95:\n",
        "    return '11/12/2023'\n",
        "  elif customer == 100:\n",
        "    return '11/18/2023'\n",
        "  elif customer == 104:\n",
        "    return rd.choice(['11/18/2023',\n",
        "                      '11/21/2023',\n",
        "                      '11/22/2023',\n",
        "                      '11/24/2024'])\n",
        "\n",
        "def deactive_from_segment1(seg1):\n",
        "  if seg1 == 'Postpaid':\n",
        "    return '10/22/2023'\n",
        "  elif seg1 == 'Prepaid':\n",
        "    return '10/31/2023'\n",
        "\n",
        "def deactive_from_segment2(seg2):\n",
        "  if seg2 == 'Corporate':\n",
        "    return '10/22/2023'\n",
        "  elif seg2 == 'PRO':\n",
        "    return '10/30/2023'\n",
        "  elif seg2 == 'Resedential':\n",
        "    return rd.choice(['9/29/2023',\n",
        "                      '9/14/2023',\n",
        "                      '8/31/2023',\n",
        "                      '11/18/2023',\n",
        "                      '11/14/2023',\n",
        "                      '10/31/2023',\n",
        "                      '10/12/2023'])"
      ]
    },
    {
      "cell_type": "code",
      "execution_count": null,
      "metadata": {
        "id": "ESCgTDbvJdFl"
      },
      "outputs": [],
      "source": [
        "date2 = tst.copy()"
      ]
    },
    {
      "cell_type": "code",
      "execution_count": null,
      "metadata": {
        "id": "jDr0izMgIVIu"
      },
      "outputs": [],
      "source": [
        "date2['DEACTIVE_DATE'] = date2['DEACTIVE_DATE'].fillna(date2['CHURN_FLAG'].apply(deactive_from_flag))\n",
        "date2['DEACTIVE_DATE'].isnull().sum()"
      ]
    },
    {
      "cell_type": "code",
      "execution_count": null,
      "metadata": {
        "id": "m9bfbsXJJLiK"
      },
      "outputs": [],
      "source": [
        "date2['DEACTIVE_DATE'] = date2['DEACTIVE_DATE'].fillna(date2['SEGMENT2'].apply(deactive_from_segment2))\n",
        "date2['DEACTIVE_DATE'].isnull().sum()"
      ]
    },
    {
      "cell_type": "code",
      "execution_count": null,
      "metadata": {
        "id": "-OSnvPcwIprg"
      },
      "outputs": [],
      "source": [
        "date2['DEACTIVE_DATE'] = date2['DEACTIVE_DATE'].fillna(date2['DATA_USAGE_TIER'].apply(deactive_from_data))\n",
        "date2['DEACTIVE_DATE'].isnull().sum()"
      ]
    },
    {
      "cell_type": "code",
      "execution_count": null,
      "metadata": {
        "id": "0_bmcXG8IwQQ"
      },
      "outputs": [],
      "source": [
        "date2['DEACTIVE_DATE'] = date2['DEACTIVE_DATE'].fillna(date2['TENURE_CATEGORY'].apply(deactive_from_tenure))\n",
        "date2['DEACTIVE_DATE'].isnull().sum()"
      ]
    },
    {
      "cell_type": "code",
      "execution_count": null,
      "metadata": {
        "id": "z6zADzSBJDCe"
      },
      "outputs": [],
      "source": [
        "date2['DEACTIVE_DATE'] = date2['DEACTIVE_DATE'].fillna(date2['CUSTOMER_TENURE'].apply(deactive_from_customer))\n",
        "date2['DEACTIVE_DATE'].isnull().sum()"
      ]
    },
    {
      "cell_type": "code",
      "execution_count": null,
      "metadata": {
        "id": "VOAMF8ziJHd8"
      },
      "outputs": [],
      "source": [
        "date2['DEACTIVE_DATE'] = date2['DEACTIVE_DATE'].fillna(date2['SEGMENT1'].apply(deactive_from_segment1))\n",
        "date2['DEACTIVE_DATE'].isnull().sum()"
      ]
    },
    {
      "cell_type": "code",
      "execution_count": null,
      "metadata": {
        "id": "n3BUHrYJJkK_"
      },
      "outputs": [],
      "source": [
        "date2.isnull().sum()"
      ]
    },
    {
      "cell_type": "code",
      "execution_count": null,
      "metadata": {
        "id": "bpzuv-LsJnLX"
      },
      "outputs": [],
      "source": [
        "for c in cols:\n",
        "  date2[c] = lbl.fit_transform(date2[c])\n",
        "\n",
        "# Correlation\n",
        "corr = date2.corr()\n",
        "\n",
        "# Plotting\n",
        "plt.figure(figsize = (20, 15))\n",
        "sns.heatmap(corr, annot = True, linewidth = 2)\n",
        "  # linewidth just breaks apart the squares.\n",
        "plt.show()"
      ]
    },
    {
      "cell_type": "code",
      "execution_count": null,
      "metadata": {
        "id": "8RlqKmerJtFf"
      },
      "outputs": [],
      "source": [
        "tst.head(10)"
      ]
    },
    {
      "cell_type": "code",
      "execution_count": null,
      "metadata": {
        "id": "Eqie-hCHJ1GO"
      },
      "outputs": [],
      "source": [
        "tst.isnull().sum()"
      ]
    },
    {
      "cell_type": "code",
      "execution_count": null,
      "metadata": {
        "id": "_CbtparqJ2u-"
      },
      "outputs": [],
      "source": [
        "tst['DEACTIVE_DATE'] = tst['DEACTIVE_DATE'].fillna(tst['CHURN_FLAG'].apply(deactive_from_flag))\n",
        "tst['DEACTIVE_DATE'] = tst['DEACTIVE_DATE'].fillna(tst['SEGMENT2'].apply(deactive_from_segment2))\n",
        "tst['DEACTIVE_DATE'] = tst['DEACTIVE_DATE'].fillna(tst['DATA_USAGE_TIER'].apply(deactive_from_data))\n",
        "tst['DEACTIVE_DATE'] = tst['DEACTIVE_DATE'].fillna(tst['TENURE_CATEGORY'].apply(deactive_from_tenure))\n",
        "tst['DEACTIVE_DATE'] = tst['DEACTIVE_DATE'].fillna(tst['CUSTOMER_TENURE'].apply(deactive_from_customer))\n",
        "tst['DEACTIVE_DATE'] = tst['DEACTIVE_DATE'].fillna(tst['SEGMENT1'].apply(deactive_from_segment1))"
      ]
    },
    {
      "cell_type": "code",
      "execution_count": null,
      "metadata": {
        "id": "-Q30GXDaKKe8"
      },
      "outputs": [],
      "source": [
        "tst.isnull().sum().sum()"
      ]
    },
    {
      "cell_type": "code",
      "execution_count": null,
      "metadata": {
        "id": "v7l7xF6yKMve"
      },
      "outputs": [],
      "source": [
        "cleandf = tst.copy()"
      ]
    },
    {
      "cell_type": "code",
      "execution_count": null,
      "metadata": {
        "id": "A2SudD26Kch4"
      },
      "outputs": [],
      "source": [
        "cleandf.isnull().sum()"
      ]
    },
    {
      "cell_type": "code",
      "execution_count": null,
      "metadata": {
        "id": "W08vXIggKg7q"
      },
      "outputs": [],
      "source": [
        "cleandf.info()"
      ]
    },
    {
      "cell_type": "code",
      "execution_count": null,
      "metadata": {
        "id": "f1UV9nXyKiAx"
      },
      "outputs": [],
      "source": [
        "cleandf['DEACTIVE_DATE'].value_counts()"
      ]
    },
    {
      "cell_type": "code",
      "execution_count": null,
      "metadata": {
        "id": "Wq0X60AWKpav"
      },
      "outputs": [],
      "source": [
        "cleandf['DEACTIVE_DATE'] = pd.to_datetime(cleandf['DEACTIVE_DATE'], format = '%m/%d/%Y')"
      ]
    },
    {
      "cell_type": "code",
      "execution_count": null,
      "metadata": {
        "id": "Dyz80xEyK4Ah"
      },
      "outputs": [],
      "source": [
        "cleandf['DEACTIVE_DATE'].head(10)"
      ]
    },
    {
      "cell_type": "code",
      "execution_count": null,
      "metadata": {
        "id": "7JyUoQUfLOjQ"
      },
      "outputs": [],
      "source": [
        "# MODELING\n",
        "\n",
        "cleandf.info()"
      ]
    },
    {
      "cell_type": "code",
      "execution_count": null,
      "metadata": {
        "id": "dEQnE8ivTLQ0"
      },
      "outputs": [],
      "source": [
        "cleandf['STATUS'].value_counts()\n",
        "  # one hot encoder"
      ]
    },
    {
      "cell_type": "code",
      "execution_count": null,
      "metadata": {
        "id": "jFMyS3UoTQ8l"
      },
      "outputs": [],
      "source": [
        "cleandf['STATUS_REASON'].value_counts()\n",
        "  # one hot encoder"
      ]
    },
    {
      "cell_type": "code",
      "execution_count": null,
      "metadata": {
        "id": "4iwLLmPkTWGR"
      },
      "outputs": [],
      "source": [
        "cleandf['SEGMENT1'].value_counts()\n",
        "  # one hot encoder"
      ]
    },
    {
      "cell_type": "code",
      "execution_count": null,
      "metadata": {
        "id": "mSHn0FOsTbbr"
      },
      "outputs": [],
      "source": [
        "cleandf['SEGMENT2'].value_counts()\n",
        "  # one hot encoder"
      ]
    },
    {
      "cell_type": "code",
      "execution_count": null,
      "metadata": {
        "id": "iRmaK0YITc9U"
      },
      "outputs": [],
      "source": [
        "cleandf['DATA_USAGE_TIER'].value_counts()\n",
        "  # one hot encoder"
      ]
    },
    {
      "cell_type": "code",
      "execution_count": null,
      "metadata": {
        "id": "lYf3PCr6Tfav"
      },
      "outputs": [],
      "source": [
        "cleandf['CUSTOMER_SEGMENT_CHANGE_FLAG'].value_counts()\n",
        "  # one hot encoder"
      ]
    },
    {
      "cell_type": "code",
      "execution_count": null,
      "metadata": {
        "id": "MJhI7L3ATjie"
      },
      "outputs": [],
      "source": [
        "# rest get label encoder - too many values."
      ]
    },
    {
      "cell_type": "code",
      "execution_count": null,
      "metadata": {
        "id": "IiesLiA2Yax-"
      },
      "outputs": [],
      "source": [
        "df2 = cleandf.copy()"
      ]
    },
    {
      "cell_type": "code",
      "execution_count": null,
      "metadata": {
        "id": "fV-k4vIfTtF6"
      },
      "outputs": [],
      "source": [
        "from sklearn.preprocessing import LabelEncoder, OneHotEncoder\n",
        "oh = OneHotEncoder()\n",
        "\n",
        "df2 = pd.get_dummies(df, columns = ['USER_CREATED_BY', 'POS_MSISDN', 'DISTRIBUTER', 'PLAN_NAME',\n",
        "        'ACTIVE_DATE', 'DEACTIVE_DATE', 'TENURE_CATEGORY', 'STATUS',\n",
        "        'STATUS_REASON', 'SEGMENT1', 'SEGMENT2', 'DATA_USAGE_TIER',\n",
        "        'CUSTOMER_SEGMENT_CHANGE_FLAG'])\n",
        "\n",
        "df2.head(10)"
      ]
    },
    {
      "cell_type": "code",
      "execution_count": null,
      "metadata": {
        "id": "Bpc563ZSeqpR"
      },
      "outputs": [],
      "source": [
        "df.info()"
      ]
    },
    {
      "cell_type": "code",
      "execution_count": null,
      "metadata": {
        "id": "cSyI_mVzZ7zz"
      },
      "outputs": [],
      "source": [
        "import matplotlib.pyplot as plt\n",
        "import seaborn as sns\n",
        "\n",
        "# numerical columns.\n",
        "ncols = ['CUSTOMER_TENURE', 'CHURN_FLAG',\n",
        "         'CUSTOMER_INTERACTION_SCORE', 'LOYALTY_POINTS']\n",
        "\n",
        "plt.figure(figsize = (15, 10))\n",
        "for i, col in enumerate(ncols, 1):\n",
        "  plt.subplot(2, 2, i)\n",
        "  sns.histplot(df[col], kde = True)\n",
        "  plt.title(f'Distribution of {col}')\n",
        "  plt.tight_layout()\n",
        "\n",
        "plt.show()"
      ]
    },
    {
      "cell_type": "code",
      "execution_count": null,
      "metadata": {
        "id": "4cl-NW_Xe9BY"
      },
      "outputs": [],
      "source": [
        "''' numbers with a BIG range = bias in models (2 P's)\n",
        "  - use STANDARDIZATION (mean = 0, sd = 1, MFC)\n",
        "  - assume data is [semi] normal distribution\n",
        "\n",
        "if UNRELATING to NORMAL DISTRIBUTION\n",
        "  - use normalization (values from 0 - 1)\n",
        "\n",
        "if skewed, use LOG TRANSFORMATION\n",
        "  - var > how far each val is far from mean\n",
        "  - log decreases the var values, gap decreases\n",
        "  - smaller = better, identical or more accurate, usable '''\n",
        "\n",
        "# CO_ID is more like categorical, won't apply.\n",
        "# CHURN_FLAG is only 0s and 1s, won't apply.\n",
        "# CUSTOMER_INTERACTION_SCORE small range (1-10), won't apply\n",
        "# LOYALTY_POINTS =~ normal, standardization"
      ]
    },
    {
      "cell_type": "code",
      "execution_count": null,
      "metadata": {
        "id": "Qx-EavI_gypG"
      },
      "outputs": [],
      "source": [
        "from sklearn.preprocessing import StandardScaler\n",
        "\n",
        "scaler = StandardScaler()\n",
        "df2[['LOYALTY_POINTS']] = scaler.fit_transform(df2[['LOYALTY_POINTS']])\n",
        "df2.head()"
      ]
    },
    {
      "cell_type": "code",
      "execution_count": null,
      "metadata": {
        "id": "qNtJJxYwv9cK"
      },
      "outputs": [],
      "source": [
        "df2.info()"
      ]
    },
    {
      "cell_type": "code",
      "execution_count": null,
      "metadata": {
        "id": "Nj6zoTuSw5a-"
      },
      "outputs": [],
      "source": [
        "df2.head()"
      ]
    },
    {
      "cell_type": "code",
      "execution_count": null,
      "metadata": {
        "id": "W-PdU66ah0g7"
      },
      "outputs": [],
      "source": [
        "# Splitting Data\n",
        "\n",
        "from sklearn.model_selection import train_test_split\n",
        "X = df2.drop('SEGMENT1_Prepaid', axis = 1) # all cols besides Segment1\n",
        "Y = df2['SEGMENT1_Prepaid'] # only Segment1\n",
        "\n",
        "# splitting: 1/3 testing & 2/3 training\n",
        "X_train, X_test, Y_train, Y_test = train_test_split(X, Y, test_size = 0.3, random_state = 1, stratify = Y)\n",
        "  # note: *stratify* eliminates bias: maintaining equal distribution\n",
        "\n",
        "# shape for verification\n",
        "X_train.shape, Y_train.shape, X_test.shape, Y_test.shape"
      ]
    },
    {
      "cell_type": "code",
      "execution_count": null,
      "metadata": {
        "id": "4ngGsEP55xhK"
      },
      "outputs": [],
      "source": [
        "X_train.shape[0] # number of samples"
      ]
    },
    {
      "cell_type": "code",
      "execution_count": null,
      "metadata": {
        "id": "hIFoOy8Bwqjy"
      },
      "outputs": [],
      "source": [
        "# KNN\n",
        "from sklearn.neighbors import KNeighborsClassifier\n",
        "import math\n",
        "\n",
        "# object\n",
        "k_value = list(range(1, 21, 4))\n",
        "for k in k_value:\n",
        "  knn = KNeighborsClassifier(n_neighbors = k)\n",
        "\n",
        "# training knn\n",
        "  knn.fit(X_train, Y_train)\n",
        "\n",
        "  Ypred_knn = knn.predict(X_test)"
      ]
    },
    {
      "cell_type": "code",
      "execution_count": null,
      "metadata": {
        "id": "URa-cqiGycbw"
      },
      "outputs": [],
      "source": [
        "knn_result = pd.DataFrame({'Original': Y_test, 'Predicted': Ypred_knn})\n",
        "knn_result.to_csv(f'out.csv')"
      ]
    },
    {
      "cell_type": "code",
      "execution_count": null,
      "metadata": {
        "id": "VDSYnAqBzTEV"
      },
      "outputs": [],
      "source": [
        "print(f'Sample of KNN Predictions: \\n\\n{knn_result.head(10)}')"
      ]
    },
    {
      "cell_type": "code",
      "execution_count": null,
      "metadata": {
        "id": "EJ4zKwvLyQXF"
      },
      "outputs": [],
      "source": [
        "# KNN Accuracy\n",
        "from sklearn.metrics import accuracy_score, precision_score, recall_score, f1_score\n",
        "from sklearn.metrics import confusion_matrix\n",
        "\n",
        "for k in k_value:\n",
        "  knn_accuracy = accuracy_score(Y_test, Ypred_knn)\n",
        "  knn_precision = precision_score(Y_test, Ypred_knn)\n",
        "  knn_recall = recall_score(Y_test, Ypred_knn)\n",
        "  knn_f1 = f1_score(Y_test, Ypred_knn)\n",
        "  knn_matrix = confusion_matrix(Y_test, Ypred_knn)\n",
        "\n",
        "  print(f'KNN Prediction of Segment1_Prepaid k = {k}\\n\\n'\n",
        "    f'Accuracy: {knn_accuracy}\\n'\n",
        "    f'Precision: {knn_precision}\\n'\n",
        "    f'Recall: {knn_recall}\\n'\n",
        "    f'F1: {knn_f1}\\n'\n",
        "    f'Confusion Matrix:\\n {knn_matrix}\\n')"
      ]
    },
    {
      "cell_type": "code",
      "execution_count": null,
      "metadata": {
        "id": "3TUrwusPzWZu"
      },
      "outputs": [],
      "source": [
        "# Decision Tree\n",
        "from sklearn.tree import DecisionTreeClassifier\n",
        "\n",
        "# object\n",
        "dt = DecisionTreeClassifier()\n",
        "\n",
        "# training Decision Tree\n",
        "dt.fit(X_train, Y_train)\n",
        "\n",
        "# predicting\n",
        "Ypred_dt = dt.predict(X_test)"
      ]
    },
    {
      "cell_type": "code",
      "execution_count": null,
      "metadata": {
        "id": "xMGInZ5i2Hwh"
      },
      "outputs": [],
      "source": [
        "dt_result = pd.DataFrame({'Original': Y_test, 'Predicted': Ypred_dt})\n",
        "dt_result.to_csv(f'out.csv')"
      ]
    },
    {
      "cell_type": "code",
      "execution_count": null,
      "metadata": {
        "id": "ix8oqUsT2jhD"
      },
      "outputs": [],
      "source": [
        "print(f'Sample of Decision Tree Predictions: \\n\\n{dt_result.head(10)}')"
      ]
    },
    {
      "cell_type": "code",
      "execution_count": null,
      "metadata": {
        "id": "XreQw2nZ3Fox"
      },
      "outputs": [],
      "source": [
        "dt_accuracy = accuracy_score(Y_test, Ypred_dt)\n",
        "dt_precision = precision_score(Y_test, Ypred_dt)\n",
        "dt_recall = recall_score(Y_test, Ypred_dt)\n",
        "dt_f1 = f1_score(Y_test, Ypred_dt)\n",
        "dt_matrix = confusion_matrix(Y_test, Ypred_dt)\n",
        "\n",
        "print(f'Decision Tree Prediction of Segment1_Prepaid\\n\\n\\\n",
        "Accuracy: {dt_accuracy}\\n\\\n",
        "Precision: {dt_precision}\\n\\\n",
        "Recall: {dt_recall}\\n\\\n",
        "F1: {dt_f1}\\n\\\n",
        "Confusion Matrix: \\n{dt_matrix}')"
      ]
    },
    {
      "cell_type": "code",
      "execution_count": null,
      "metadata": {
        "id": "MePAKtCKB6Af"
      },
      "outputs": [],
      "source": [
        "'''\n",
        "F1 score: geometric avg\n",
        "Recall: FN is high (0, when truly it's 1)\n",
        "CONFUSION MATRIX: [[TN (0, 0), FP (1, 0)]\n",
        "                  [FN (0, 1), TP (1, 1)]]\n",
        "'''"
      ]
    },
    {
      "cell_type": "code",
      "execution_count": null,
      "metadata": {
        "id": "olurCjBx3azv"
      },
      "outputs": [],
      "source": [
        "# Random Forest\n",
        "from sklearn.ensemble import RandomForestClassifier\n",
        "\n",
        "# object\n",
        "rf = RandomForestClassifier()\n",
        "\n",
        "# training\n",
        "rf.fit(X_train, Y_train)\n",
        "\n",
        "# predicting\n",
        "Ypred_rf = rf.predict(X_test)"
      ]
    },
    {
      "cell_type": "code",
      "execution_count": null,
      "metadata": {
        "id": "-ogYNoGK4AHt"
      },
      "outputs": [],
      "source": [
        "rf_result = pd.DataFrame({'Original': Y_test, 'Predicted': Ypred_rf})\n",
        "rf_result.to_csv(f'out.csv')"
      ]
    },
    {
      "cell_type": "code",
      "execution_count": null,
      "metadata": {
        "id": "yv8cQCyO4WBQ"
      },
      "outputs": [],
      "source": [
        "print(f'Sample of Random Forest Predictions: \\n\\n{rf_result.head(10)}')"
      ]
    },
    {
      "cell_type": "code",
      "execution_count": null,
      "metadata": {
        "id": "56b7tpMI4g3t"
      },
      "outputs": [],
      "source": [
        "rf_accuracy = accuracy_score(Y_test, Ypred_rf)\n",
        "rf_precision = precision_score(Y_test, Ypred_rf)\n",
        "rf_recall = recall_score(Y_test, Ypred_rf)\n",
        "rf_f1 = f1_score(Y_test, Ypred_rf)\n",
        "rf_matrix = confusion_matrix(Y_test, Ypred_rf)\n",
        "\n",
        "print(f'Random Forest Prediction of Segment1_Prepaid\\n\\n\\\n",
        "Accuracy: {rf_accuracy}\\n\\\n",
        "Precision: {rf_precision}\\n\\\n",
        "Recall: {rf_recall}\\n\\\n",
        "F1: {rf_f1}\\n\\\n",
        "Confusion Matrix: \\n{rf_matrix}')"
      ]
    },
    {
      "cell_type": "code",
      "execution_count": null,
      "metadata": {
        "id": "C2obF-5e4ovl"
      },
      "outputs": [],
      "source": [
        "# MODEL VISUALIZATION: RADAR\n",
        "\n",
        "subject = ['Accuracy', 'Precision', 'Recall', 'F1']\n",
        "knn = [0.9255485893416928, 0.9621513944223108, 0.9104618284637135, 0.9355932203389831]\n",
        "dt = [1, 1, 1, 1]\n",
        "rf = [1, 1, 1, 1]\n",
        "\n",
        "# angles in radians\n",
        "angle = np.linspace(0, 2*np.pi, len(subject), endpoint = False)\n",
        "\n",
        "# 1st angle for circle\n",
        "angle = np.concatenate((angle, [angle[0]]))\n",
        "\n",
        "# append\n",
        "subject.append(subject[0])\n",
        "knn.append(knn[0])\n",
        "dt.append(knn[0])\n",
        "rf.append(rf[0])\n",
        "\n",
        "# radar chart plotting\n",
        "plt.subplot(polar = True)\n",
        "plt.plot(angle, knn, 'o--', color = 'g', label = 'knn')\n",
        "plt.plot(angle, dt, 'o--', color = 'b', label = 'dt')\n",
        "plt.plot(angle, rf, 'o--', color = 'r', label = 'rf')\n",
        "plt.tight_layout()\n",
        "plt.legend()\n",
        "plt.show()"
      ]
    },
    {
      "cell_type": "code",
      "execution_count": null,
      "metadata": {
        "id": "zvymZ4kKe9ZH"
      },
      "outputs": [],
      "source": [
        "# BOX PLOT\n",
        "\n",
        "knn = [0.9255485893416928, 0.9621513944223108, 0.9104618284637135, 0.9355932203389831]\n",
        "dt = [1.0000, 1.0000, 1.0000, 1.0000]\n",
        "rf = [1.0000, 1.0000, 1.0000, 1.0000]\n",
        "\n",
        "data = [knn, dt, rf]\n",
        "plt.boxplot(data, labels = ['KNN', 'DT', 'RF'])\n",
        "plt.show()"
      ]
    },
    {
      "cell_type": "code",
      "execution_count": null,
      "metadata": {
        "id": "0uNx3IQvgCQJ"
      },
      "outputs": [],
      "source": [
        "# BAR CHART, Accuracy\n",
        "\n",
        "ml = ['KNN', 'DT', 'RF']\n",
        "accuracy = [0.92554858934169288 * 100, 100, 100]\n",
        "\n",
        "# creating\n",
        "plt.bar(ml, accuracy, color = 'green', width = 0.4)\n",
        "\n",
        "# labels\n",
        "plt.xlabel('ML Model')\n",
        "plt.ylabel('Accuracy %')\n",
        "plt.title('Accuracy of ML')\n",
        "plt.show()"
      ]
    },
    {
      "cell_type": "code",
      "execution_count": null,
      "metadata": {
        "id": "ROZOsWpSgvJi"
      },
      "outputs": [],
      "source": [
        "# BAR CHART, Precision\n",
        "\n",
        "ml = ['KNN', 'DT', 'RF']\n",
        "precision = [0.9621513944223108 * 100, 100, 100]\n",
        "\n",
        "# creating\n",
        "plt.bar(ml, precision, color = 'orange', width = 0.4)\n",
        "\n",
        "# labels\n",
        "plt.xlabel('ML Model')\n",
        "plt.ylabel('Precision %')\n",
        "plt.title('Precision of ML')\n",
        "plt.show()"
      ]
    },
    {
      "cell_type": "code",
      "execution_count": null,
      "metadata": {
        "id": "ECZB_wKqhLXK"
      },
      "outputs": [],
      "source": [
        "# BAR CHART, Recall\n",
        "\n",
        "ml = ['KNN', 'DT', 'RF']\n",
        "recall = [0.9104618284637135 * 100, 100, 100]\n",
        "\n",
        "# creating\n",
        "plt.bar(ml, recall, color = 'red', width = 0.4)\n",
        "\n",
        "# labels\n",
        "plt.xlabel('ML Model')\n",
        "plt.ylabel('Recall %')\n",
        "plt.title('Recall of ML')\n",
        "plt.show()"
      ]
    },
    {
      "cell_type": "code",
      "execution_count": null,
      "metadata": {
        "id": "rMRlFZfQhd4p"
      },
      "outputs": [],
      "source": [
        "# BAR CHART, F1\n",
        "\n",
        "ml = ['KNN', 'DT', 'RF']\n",
        "f1 = [0.9355932203389831 * 100, 100, 100]\n",
        "\n",
        "# creating\n",
        "plt.bar(ml, f1, color = 'pink', width = 0.4)\n",
        "\n",
        "# labels\n",
        "plt.xlabel('ML Model')\n",
        "plt.ylabel('F1 %')\n",
        "plt.title('Accuracy of ML')\n",
        "plt.show()"
      ]
    },
    {
      "cell_type": "code",
      "execution_count": null,
      "metadata": {
        "id": "6Y3Okc43hlI6"
      },
      "outputs": [],
      "source": []
    }
  ],
  "metadata": {
    "colab": {
      "provenance": []
    },
    "kernelspec": {
      "display_name": "Python 3",
      "name": "python3"
    },
    "language_info": {
      "name": "python"
    }
  },
  "nbformat": 4,
  "nbformat_minor": 0
}
